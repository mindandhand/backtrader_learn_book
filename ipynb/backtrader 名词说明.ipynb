{
 "cells": [
  {
   "cell_type": "markdown",
   "id": "6008e51f",
   "metadata": {},
   "source": [
    "为了方便后面的工作，这里列举一些backtrader的常用名词概念。对于其专有名词仍旧使用英语，但做一些中文的解释，并结合例子加深理解。"
   ]
  },
  {
   "cell_type": "code",
   "execution_count": 18,
   "id": "f7e5f016",
   "metadata": {},
   "outputs": [],
   "source": [
    "import backtrader as bt\n",
    "import backtrader.indicators as btind\n",
    "import backtrader.feeds as btfeeds\n",
    "import akshare as ak\n",
    "import pandas as pd\n",
    "import datetime"
   ]
  },
  {
   "cell_type": "markdown",
   "id": "3168a4db",
   "metadata": {},
   "source": [
    "##### 1 Data Feeds"
   ]
  },
  {
   "cell_type": "markdown",
   "id": "3aed2191",
   "metadata": {},
   "source": [
    "backtrader的基本功能是由策略完成，这需要用到行情数据。策略编写人员不需要关心怎么接收他们，Data Feeds通过数组和数组位置索引的方式把成员变量自动加载给策略。一个策略举例实现如下:"
   ]
  },
  {
   "cell_type": "code",
   "execution_count": 47,
   "id": "a1cf141a",
   "metadata": {},
   "outputs": [
    {
     "name": "stdout",
     "output_type": "stream",
     "text": [
      "             日期    开盘    收盘    最高    最低      成交量           成交额\n",
      "965  2023-12-25  9.18  9.19  9.20  9.14   413971  3.796382e+08\n",
      "966  2023-12-26  9.19  9.10  9.20  9.07   541896  4.937466e+08\n",
      "967  2023-12-27  9.10  9.12  9.13  9.02   641534  5.820367e+08\n",
      "968  2023-12-28  9.11  9.45  9.47  9.08  1661592  1.550257e+09\n",
      "969  2023-12-29  9.42  9.39  9.48  9.35   853853  8.031967e+08\n",
      "<backtrader.feeds.pandafeed.PandasData object at 0x7f9fba215bd0>\n",
      "<backtrader.feeds.pandafeed.PandasData object at 0x7f9fba215bd0>\n"
     ]
    },
    {
     "data": {
      "text/plain": [
       "[<__main__.MyStrategy at 0x7f9fba217fd0>]"
      ]
     },
     "execution_count": 47,
     "metadata": {},
     "output_type": "execute_result"
    }
   ],
   "source": [
    "class MyStrategy(bt.Strategy):\n",
    "    # 定义均线周期\n",
    "    params = dict(period=5)\n",
    "\n",
    "    def __init__(self):\n",
    "        # 计算5日均线\n",
    "        sma = btind.SimpleMovingAverage(self.datas[0], period=self.params.period)\n",
    "        sma = btind.SimpleMovingAverage(period=self.params.period)\n",
    "       \n",
    "        print(self.datas[0]) # 输出：backtrader.feeds.pandafeed.PandasData object at 0x7f9fba215bd0>\n",
    "        print(self.data) # 输出：backtrader.feeds.pandafeed.PandasData object at 0x7f9fba215bd0>\n",
    "                        # 这说明以上两个的访问是等价的\n",
    "# 初始化策略引擎\n",
    "cerebro = bt.Cerebro()\n",
    "# 利用 AKShare 获取股票的前复权数据，这里只获取前 6 列\n",
    "sz000001_df = ak.stock_zh_a_hist(symbol=\"000001\", \n",
    "    period=\"daily\", \n",
    "    start_date=\"20200101\", \n",
    "    end_date=\"20231231\", \n",
    "    adjust=\"qfq\").iloc[:, :7]\n",
    "print(sz000001_df[-5:])\n",
    "# 处理字段命名，以符合 Backtrader 的要求\n",
    "sz000001_df.columns = [\n",
    "    'date',\n",
    "    'open',\n",
    "    'close',\n",
    "    'high',\n",
    "    'low',\n",
    "    'volume',\n",
    "    'amt',\n",
    "]\n",
    "# 把 date 作为日期索引，以符合 Backtrader 的要求\n",
    "sz000001_df.index = pd.to_datetime(sz000001_df['date'])\n",
    "\n",
    "start_date = datetime.datetime(2020, 1, 1)  # 回测开始时间\n",
    "end_date = datetime.datetime(2023, 12, 31)  # 回测结束时间\n",
    "data = bt.feeds.PandasData(dataname=sz000001_df, fromdate=start_date, todate=end_date)  # 加载数据\n",
    "cerebro.adddata(data)  # 将数据传入回测系统\n",
    "# 添加策略到引擎\n",
    "cerebro.addstrategy(MyStrategy)\n",
    "cerebro.run()"
   ]
  },
  {
   "cell_type": "markdown",
   "id": "c927d6c0",
   "metadata": {},
   "source": [
    "在上面的例子中使用akshare获取行情数据，关于akshare的例子前面文章中已经有描述，关于如何在backtrader 中使用akshare 也可以访问其官方页面查看。https://akshare.akfamily.xyz/demo.html#backtrader\n",
    "\n",
    "需要注意的是：\n",
    "\n",
    "- 策略的 \\_\\_init\\_\\_ 方法没有接收任何 *args 或 \\*\\*kwargs，这不代表他们不能被使用，确实可以被使用，将在后面的章节中用到。\n",
    "\n",
    "- MyStrategy中存在一个成员变量 self.datas，它是一个数组/列表/可迭代对象，至少包含一个元素（否则将引发异常）。self.data 和self.datas[0]，self.dataX 和 self.datas[X]的访问是等价的，这个可以从print(self.datas[0])和print(self.data)输出的地址是同一个0x7f9fba215bd0得到验证。self.datas[0]指向的是第一个添加的数据，访问self.datas[1]会引发异常，因为没有添加更多的数据。\n",
    "\n",
    "- 通过adddata添加到策略的数据 ，将以添加到系统的顺序出现在策略内部。也即是从上面的0 到X 的数据。\n",
    "- btind.SimpleMovingAverage(self.datas[0], period=self.params.period) 和 btind.SimpleMovingAverage(period=self.params.period)这2者是一样的，btind.SimpleMovingAverage如何不指定数据，则默认使用self.datas[0]。"
   ]
  },
  {
   "cell_type": "code",
   "execution_count": 51,
   "id": "a92418f2",
   "metadata": {},
   "outputs": [],
   "source": [
    "# 指标和运算结果也可以是Data Feeds\n",
    "class MyStrategy(bt.Strategy):\n",
    "    params = dict(period1=20, period2=25, period3=10, period4=5)\n",
    "    def __init__(self):\n",
    "\n",
    "        sma1 = btind.SimpleMovingAverage(self.datas[0], period=self.p.period1)\n",
    "\n",
    "        # 基于第一个sma指标计算得到sma2\n",
    "        sma2 = btind.SimpleMovingAverage(sma1, period=self.p.period2)\n",
    "\n",
    "        # 通过数据计算得到新的计算结果\n",
    "        something = sma2 - sma1 + self.data.close\n",
    "\n",
    "        # 通过以上结果计算得到第三个sma结果\n",
    "        sma3 = btind.SimpleMovingAverage(something, period=self.p.period3)\n",
    "\n",
    "        # Comparison operators work too ...\n",
    "        greater = sma3 > sma1\n",
    "\n",
    "        # 使用比较运算符计算sma\n",
    "        sma3 = btind.SimpleMovingAverage(greater, period=self.p.period4)\n"
   ]
  },
  {
   "cell_type": "markdown",
   "id": "19feea2a",
   "metadata": {},
   "source": [
    "##### 2 Parameters"
   ]
  },
  {
   "cell_type": "code",
   "execution_count": null,
   "id": "cedd6890",
   "metadata": {},
   "outputs": [],
   "source": [
    "参数和默认值被声明为类属性（元组的元组或类似字典的对象），如果 kwargs有和类属性重复的参数，则使用kwargs中的内容。\n",
    "可以通过访问成员变量self.params（缩写：self.p）在类的实例lines中使用参数。"
   ]
  },
  {
   "cell_type": "code",
   "execution_count": 64,
   "id": "aab0d2f1",
   "metadata": {},
   "outputs": [
    {
     "name": "stdout",
     "output_type": "stream",
     "text": [
      "set params by dict,self.p.period: 20\n",
      "set params by tupple,self.p.period: 20\n",
      "set params by tupple,self.p.period: 40\n"
     ]
    },
    {
     "data": {
      "text/plain": [
       "[<__main__.MyStrategy2 at 0x7f9fba2f2380>,\n",
       " <__main__.MyStrategy3 at 0x7f9fba437d00>,\n",
       " <__main__.MyStrategy3 at 0x7f9fba428100>]"
      ]
     },
     "execution_count": 64,
     "metadata": {},
     "output_type": "execute_result"
    }
   ],
   "source": [
    "class MyStrategy2(bt.Strategy):\n",
    "    params = dict(period=20)\n",
    "\n",
    "    def __init__(self):\n",
    "        print(f\"set params by dict,self.p.period: {self.p.period}\")\n",
    "        \n",
    "class MyStrategy3(bt.Strategy):\n",
    "    params = (('period', 20),)\n",
    "\n",
    "    def __init__(self):\n",
    "        print(f\"set params by tupple,self.p.period: {self.p.period}\")\n",
    "        \n",
    "# 添加策略到引擎\n",
    "cerebro = bt.Cerebro()\n",
    "cerebro.adddata(data)\n",
    "\n",
    "cerebro.addstrategy(MyStrategy2) # set params by dict,self.p.period: 20\n",
    "cerebro.addstrategy(MyStrategy3) # set params by tupple,self.p.period: 20\n",
    "cerebro.addstrategy(MyStrategy3,period = 40) # set params by tupple,self.p.period: 40\n",
    "\n",
    "cerebro.run()"
   ]
  },
  {
   "cell_type": "markdown",
   "id": "d81c0cc2",
   "metadata": {},
   "source": [
    "##### 3 Lines"
   ]
  },
  {
   "cell_type": "markdown",
   "id": "cee7c7ac",
   "metadata": {},
   "source": [
    "这个概念非常重要，几乎所有的组件都使用了它。它可以包含一个或多个线系列，线系列是一组值，当这些值在图表中组合在一起时，它们将形成一条线。\n",
    "线的一个好例子（或线系列）是由股票收盘价形成的线，如self.datas[0].close 就是一条线。"
   ]
  },
  {
   "cell_type": "code",
   "execution_count": 98,
   "id": "bf024511",
   "metadata": {},
   "outputs": [
    {
     "name": "stdout",
     "output_type": "stream",
     "text": [
      "<backtrader.lineseries.Lines_LineSeries_DataSeries_OHLC_OHLCDateTime_AbstractDataBase_DataBase_PandasData object at 0x7f9fba214070>\n",
      "self.data.lines.close[0]:9.39, self.data.l.close[0]:9.39\n",
      "self.data.lines.close[0]:9.39, self.data_close[0]:9.39\n"
     ]
    },
    {
     "data": {
      "text/plain": [
       "[<__main__.MyStrategy4 at 0x7f9fba656bf0>]"
      ]
     },
     "execution_count": 98,
     "metadata": {},
     "output_type": "execute_result"
    }
   ],
   "source": [
    "class MyStrategy4(bt.Strategy):\n",
    "    # 定义均线周期\n",
    "    params = dict(period=3)\n",
    "\n",
    "    def __init__(self):\n",
    "        print(self.data.lines)\n",
    "        self.movav = btind.SimpleMovingAverage(self.data, period=self.p.period)\n",
    "        print(f\"self.data.lines.close[0]:{self.data.lines.close[0]}, self.data.l.close[0]:{self.data.l.close[0]}\")\n",
    "        print(f\"self.data.lines.close[0]:{self.data.lines.close[0]}, self.data_close[0]:{self.data_close[0]}\")\n",
    "    \n",
    "    # 注：next 是在指标计算完成后被调用的，比如sma 5， next 在 第5根，即产生sma 5的值的时候，才开始调用next。\n",
    "    def next(self):\n",
    "        # 在Data Feeds中访问lines,通过self.data.lines\n",
    "#         print(\"--------\")\n",
    "#         print(self.data.lines.close[0])\n",
    "#         print(self.data.lines.close[-1])\n",
    "        # 如果当前周期的sma 大于dangdang\n",
    "        if self.movav.lines.sma[0] > self.data.lines.close[0]:\n",
    "            \n",
    "            pass\n",
    "            #print('Simple Moving Average is greater than the closing price')\n",
    "\n",
    "cerebro = bt.Cerebro()\n",
    "cerebro.adddata(data)  # 将数据传入回测系统\n",
    "#print(sz000001_df['close'][0:4])\n",
    "# 添加策略到引擎\n",
    "cerebro.addstrategy(MyStrategy4)\n",
    "cerebro.run()"
   ]
  },
  {
   "cell_type": "markdown",
   "id": "3f8097ce",
   "metadata": {},
   "source": [
    "从上面的内容可以看到，self.data 有一个lines属性，lines包含一个close属性；\n",
    "self.movav 是一个简单移动平均指标，它有一个lines属性，lines属性包含一个sma属性\n",
    "- xxx.lines 可以简化为 xxx.l, \n",
    "- xxx.lines.name 可以简化为 xxx.lines_name\n",
    "- self.data.lines.name 可以简化为 self.data_name\n",
    "\n",
    "开发一个指标时，必须声明该指标具有lines。就像Parameters一样，也作为类属性进行声明，仅支持元组，不支持字典，因为它无法按插入排序。\n",
    "\n",
    "\n",
    "Lines有一组点，在执行过程中动态增长，可以通过调用Python len函数来随时计算长度， 还有一个方法是buflen，2者的区别在于：\n",
    "- len表示已处理的数量\n",
    "- buflen表示加载的数据总量，即datas[x].lines 的长度\n",
    "\n",
    "如果两者返回相同的值，则表示没有预加载数据，或者已经循环处理了所有的数据（除非系统连接到实时数据源，否则这意味着处理结束），参考下面的例"
   ]
  },
  {
   "cell_type": "code",
   "execution_count": 105,
   "id": "50381404",
   "metadata": {},
   "outputs": [
    {
     "name": "stdout",
     "output_type": "stream",
     "text": [
      "-------------------\n",
      "当前处理长度为: 1\n",
      "总  长  度 为: 970\n",
      "-------------------\n",
      "当前处理长度为: 2\n",
      "总  长  度 为: 970\n",
      "-------------------\n",
      "当前处理长度为: 3\n",
      "总  长  度 为: 970\n"
     ]
    },
    {
     "data": {
      "text/plain": [
       "[<__main__.MyStrategy5 at 0x7f9fba67bf40>]"
      ]
     },
     "execution_count": 105,
     "metadata": {},
     "output_type": "execute_result"
    }
   ],
   "source": [
    "class MyStrategy5(bt.Strategy):\n",
    "    # 定义均线周期\n",
    "    params = dict(period=3)\n",
    "\n",
    "    def __init__(self):\n",
    "        pass\n",
    "        \n",
    "    def next(self):\n",
    "        # 只打印前3条\n",
    "        if len(self.data.lines) <= 3:\n",
    "            print('-------------------')\n",
    "            print(\"当前处理长度为:\",len(self.data.lines)) # 随着数据处理，值在增大\n",
    "            print(\"总  长  度 为:\",self.data.lines.buflen()) # 始终输出相同的值\n",
    "cerebro = bt.Cerebro()\n",
    "cerebro.adddata(data)  # 将数据传入回测系统\n",
    "# 添加策略到引擎\n",
    "cerebro.addstrategy(MyStrategy5)\n",
    "cerebro.run()"
   ]
  },
  {
   "cell_type": "markdown",
   "id": "ab728f44",
   "metadata": {},
   "source": [
    "##### Lines和Params 中的继承\n",
    "__Params继承:__\n",
    "- 支持多重继承\n",
    "- 继承自基类的Params被继承\n",
    "- 如果多个基类定义了相同的Params，则使用继承列表中最后一个类的默认值\n",
    "- 如果子类中重新定义了相同的Params，则新的默认值将覆盖基类的默认值\n",
    "\n",
    "__Lines继承__\n",
    "- 支持多重继承\n",
    "- 从所有基类继承Lines。由于命名为Lines，如果基类中多次使用相同的名称，则只会有一个版本的Lines\n",
    "\n",
    "#####  索引 0 和 -1\n",
    "Lines是多个Line的组合，Line具有多个点，这些点会构成一条线，为了在常规代码中访问这些点，选择使用基于0的方法来获取/设置当前值。策略（Strategies）只获取值，指标（Indicators）则还设置值。\n",
    "\n",
    "\n",
    "- 比如访问当前的数据，first_point = line[0]\n",
    "- 访问前一根的数据，last_point = line[-1]\n",
    "- 不能使用>0 的数据，因为那意味着使用了未来数据"
   ]
  },
  {
   "cell_type": "code",
   "execution_count": null,
   "id": "006d5b5e",
   "metadata": {},
   "outputs": [],
   "source": []
  }
 ],
 "metadata": {
  "kernelspec": {
   "display_name": "Python 3 (ipykernel)",
   "language": "python",
   "name": "python3"
  },
  "language_info": {
   "codemirror_mode": {
    "name": "ipython",
    "version": 3
   },
   "file_extension": ".py",
   "mimetype": "text/x-python",
   "name": "python",
   "nbconvert_exporter": "python",
   "pygments_lexer": "ipython3",
   "version": "3.10.9"
  }
 },
 "nbformat": 4,
 "nbformat_minor": 5
}
