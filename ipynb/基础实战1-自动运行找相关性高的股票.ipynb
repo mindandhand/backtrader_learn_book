{
 "cells": [
  {
   "cell_type": "markdown",
   "id": "b712f69b",
   "metadata": {},
   "source": [
    "在时间序列分析中，描述了如何通过协整的方式寻找可以配对交易的组合，本节在此基础上实现自动脚本运行，找到相关性高的股票。"
   ]
  },
  {
   "cell_type": "code",
   "execution_count": 62,
   "id": "b558795f",
   "metadata": {},
   "outputs": [],
   "source": [
    "import os\n",
    "import requests,re\n",
    "import akshare as ak\n",
    "import statsmodels.api as sm\n",
    "import pandas as pd\n",
    "import statsmodels.tsa.stattools as ts\n",
    "from queue import PriorityQueue\n",
    "import seaborn as sns\n",
    "import matplotlib.dates as mdates\n",
    "from matplotlib import pyplot as plt\n",
    "import numpy as np"
   ]
  },
  {
   "cell_type": "markdown",
   "id": "8832b3ca",
   "metadata": {},
   "source": [
    "## 1.如何获取股票集合"
   ]
  },
  {
   "cell_type": "code",
   "execution_count": 3,
   "id": "25a4f02c",
   "metadata": {},
   "outputs": [
    {
     "name": "stdout",
     "output_type": "stream",
     "text": [
      "7817\n",
      "['000001', '000002', '000003', '000004', '000005']\n"
     ]
    }
   ],
   "source": [
    "# 1.1通过三方网站，获取a股集合,股票很多，会有点慢\n",
    "response = requests.get(\"http://www.shdjt.com/js/lib/astock.js\")\n",
    "astock = re.findall(r\"~([a-z0-9]*)`\", response.text)\n",
    "print(len(astock))\n",
    "print(astock[0:5])"
   ]
  },
  {
   "cell_type": "code",
   "execution_count": 34,
   "id": "33b62533",
   "metadata": {},
   "outputs": [
    {
     "name": "stdout",
     "output_type": "stream",
     "text": [
      "==========》沪深300\n",
      "     品种代码  品种名称        纳入日期\n",
      "0  601916  浙商银行  2023-12-11\n",
      "1  301269  华大九天  2023-12-11\n",
      "2  688256   寒武纪  2023-12-11\n",
      "==========》中证指数沪深300\n",
      "    成分券代码 成分券名称     权重\n",
      "0  000001  平安银行  0.524\n",
      "1  000002   万科A  0.410\n",
      "2  000063  中兴通讯  0.486\n"
     ]
    }
   ],
   "source": [
    "# 1.2 通过akshare 获取成分股\n",
    "## https://akshare.akfamily.xyz/data/index/index.html#id16\n",
    "## 获取新浪沪深300 \n",
    "index_stock_cons_df = ak.index_stock_cons(symbol=\"000300\")\n",
    "print(\"==========》沪深300\")\n",
    "print(index_stock_cons_df[0:3])\n",
    "## 获取中证指数沪深300\n",
    "print(\"==========》中证指数沪深300\")\n",
    "index_stock_cons_csindex_df = ak.index_stock_cons_csindex(symbol=\"000300\")\n",
    "#print(index_stock_cons_csindex_df[['成分券代码','成分券名称']])\n",
    "## 获取成分权重\n",
    "index_stock_cons_weight_csindex_df = ak.index_stock_cons_weight_csindex(symbol=\"000300\")\n",
    "print(index_stock_cons_weight_csindex_df[['成分券代码','成分券名称','权重']][0:3])"
   ]
  },
  {
   "cell_type": "markdown",
   "id": "50244d77",
   "metadata": {},
   "source": [
    "## 2. 通过股票集合获取行情"
   ]
  },
  {
   "cell_type": "code",
   "execution_count": 33,
   "id": "9dd71ae1",
   "metadata": {},
   "outputs": [
    {
     "name": "stdout",
     "output_type": "stream",
     "text": [
      "           日期     开盘     收盘     最高     最低      成交量           成交额    振幅   涨跌幅  \\\n",
      "0  2023-03-01  13.80  14.17  14.19  13.74  1223452  1.719711e+09  3.27  2.83   \n",
      "1  2023-03-02  14.13  14.24  14.44  14.06  1015877  1.447566e+09  2.68  0.49   \n",
      "2  2023-03-03  14.35  14.29  14.37  14.14   690954  9.855521e+08  1.62  0.35   \n",
      "\n",
      "    涨跌额   换手率  \n",
      "0  0.39  0.63  \n",
      "1  0.07  0.52  \n",
      "2  0.05  0.36  \n"
     ]
    }
   ],
   "source": [
    "## 2.1 以沪深300股票为例\n",
    "##### 使用akshare 获取股票历史行情，adjust\tstr\t默认返回不复权的数据; qfq: 返回前复权后的数据; hfq: 返回后复权后的数据\n",
    "stock_zh_a_hist_df = ak.stock_zh_a_hist(symbol=\"000001\", period=\"daily\", start_date=\"20230301\", end_date='20230907', adjust=\"\")\n",
    "print(stock_zh_a_hist_df[:3])"
   ]
  },
  {
   "cell_type": "code",
   "execution_count": 36,
   "id": "a20c1f2f",
   "metadata": {},
   "outputs": [
    {
     "name": "stdout",
     "output_type": "stream",
     "text": [
      "603023的数据量: 474\n",
      "601916的数据量: 478\n",
      "删除空值之后的数据量: 474\n"
     ]
    }
   ],
   "source": [
    "## 2.2 使这里使用停牌的股票测试一下，如果存在某个单一股票停牌，则删除对应的数据不做比较， 603023 20230711有停牌\n",
    "astock = ak.stock_zh_a_hist(symbol='603023', period=\"daily\", start_date=\"20220101\", end_date='20231231', adjust=\"hfq\")\n",
    "astock.index = astock['日期']\n",
    "bstock = ak.stock_zh_a_hist(symbol='601916', period=\"daily\", start_date=\"20220101\", end_date='20231231', adjust=\"hfq\")\n",
    "bstock.index = bstock['日期']\n",
    "combination = pd.DataFrame()\n",
    "combination['astock'] = astock['收盘']\n",
    "combination['abtock'] = bstock['收盘']\n",
    "print(\"603023的数据量:\",len(astock))\n",
    "print(\"601916的数据量:\",len(bstock))\n",
    "combination.dropna()\n",
    "print(\"删除空值之后的数据量:\",len(combination))"
   ]
  },
  {
   "cell_type": "code",
   "execution_count": 37,
   "id": "3f2b22e3",
   "metadata": {},
   "outputs": [],
   "source": [
    "## 2.3 foreach stock to get quote, and set to quote dict, time will be a little long\n",
    "quote_dict = {}\n",
    "for stock in index_stock_cons_df['品种代码']:\n",
    "    stock_zh_a_hist_df = ak.stock_zh_a_hist(symbol=stock, period=\"daily\", start_date=\"20220101\", end_date='20231231', adjust=\"hfq\")\n",
    "    stock_zh_a_hist_df.index = stock_zh_a_hist_df['日期']\n",
    "    quote_dict[stock] = stock_zh_a_hist_df"
   ]
  },
  {
   "cell_type": "code",
   "execution_count": 38,
   "id": "39923b13",
   "metadata": {},
   "outputs": [
    {
     "name": "stdout",
     "output_type": "stream",
     "text": [
      "沪深300股票的数据量 300\n",
      "沪深300每2个股票构成一个集合的数据量 44850\n"
     ]
    }
   ],
   "source": [
    "## 2.4 look for relative stock pair, there are 300 stocks, each combination include 2 stock , 300*(300-1)/2 = 44850\n",
    "### 2.4.1 构建所有的组合\n",
    "#print(len(quote_dict))\n",
    "all_combinations=[]\n",
    "hs300 = index_stock_cons_df['品种代码']\n",
    "print(\"沪深300股票的数据量\",len(hs300))\n",
    "for i in range(len(hs300) - 1):\n",
    "    for j in range(i + 1,len(hs300)) :\n",
    "        all_combinations.append(hs300[i]+','+hs300[j])\n",
    "        #print(hs300[i],',',hs300[j])\n",
    "print(\"沪深300每2个股票构成一个集合的数据量\",len(all_combinations))"
   ]
  },
  {
   "cell_type": "markdown",
   "id": "5251581e",
   "metadata": {},
   "source": [
    "## 3. 计算CADF"
   ]
  },
  {
   "cell_type": "code",
   "execution_count": 42,
   "id": "fdcc429d",
   "metadata": {},
   "outputs": [
    {
     "data": {
      "text/plain": [
       "(False, 0, 0.01565804329401019)"
      ]
     },
     "execution_count": 42,
     "metadata": {},
     "output_type": "execute_result"
    }
   ],
   "source": [
    "# calculate cadf, get cadf val\n",
    "# cadf 参数的含义见时间序列分析部分\n",
    "def calculate_cadf(stock_combination):\n",
    "    # 分离股票代码\n",
    "    stock_vec = stock_combination.split(',')\n",
    "    if len(stock_vec) != 2:\n",
    "        print('unknown stock_combination', stock_combination)\n",
    "        return\n",
    "    stock1 = stock_vec[0]\n",
    "    stock2 = stock_vec[1]\n",
    "    # 构建新的组合\n",
    "    stock_combination = pd.DataFrame()\n",
    "    stock_combination[stock1] = quote_dict[stock1]['收盘']\n",
    "    stock_combination[stock2] = quote_dict[stock2]['收盘']\n",
    "    # 删除空值\n",
    "    stock_combination = stock_combination.dropna()\n",
    "    #print(stock_combination)\n",
    "    ## 进行OLS 训练，寻找参数\n",
    "    model = sm.OLS(stock_combination[stock1], stock_combination[stock2])\n",
    "    res= model.fit()\n",
    "#     print(res.params[0])\n",
    "#     print(res.summary())\n",
    "    stock_combination[\"res\"] = stock_combination[stock1] - res.params[0] *stock_combination[stock2]\n",
    "#     #print(df[\"res\"])\n",
    "    # 获取参数结果\n",
    "    cadf = ts.adfuller(stock_combination[\"res\"])\n",
    "    if cadf[1] >= 0.001 or cadf[0] > cadf[4]['1%']:\n",
    "        return False, 0, cadf[1]\n",
    "#     print(cadf)\n",
    "#     print(cadf[0])\n",
    "#     print(cadf[1])\n",
    "#     print(cadf[4]['1%'])\n",
    "    return True, cadf[0],cadf[1]\n",
    "\n",
    "calculate_cadf('601916,301269')"
   ]
  },
  {
   "cell_type": "code",
   "execution_count": 45,
   "id": "fcc21415",
   "metadata": {},
   "outputs": [
    {
     "name": "stderr",
     "output_type": "stream",
     "text": [
      "/Users/neil/anaconda3/lib/python3.10/site-packages/statsmodels/regression/linear_model.py:940: RuntimeWarning: divide by zero encountered in log\n",
      "  llf = -nobs2*np.log(2*np.pi) - nobs2*np.log(ssr / nobs) - nobs2\n"
     ]
    }
   ],
   "source": [
    "# 获取计算结果，放在优先队列中\n",
    "cadf_pq = PriorityQueue()\n",
    "## 数据接近50000个组合，只运行10000个组合，看看结果\n",
    "for combination in all_combinations[0:10000]:\n",
    "#     print(combination)\n",
    "    cadfPassed, tStat , pValue= calculate_cadf(combination)\n",
    "    if cadfPassed:\n",
    "        #print(tStat, combination)\n",
    "        cadf_pq.put((tStat,pValue, combination))"
   ]
  },
  {
   "cell_type": "code",
   "execution_count": 50,
   "id": "10166ecd",
   "metadata": {},
   "outputs": [
    {
     "name": "stdout",
     "output_type": "stream",
     "text": [
      "(-6.10279795196737, 9.743996556382118e-08, '600674,300433')\n",
      "(-5.923899040209228, 2.469527406422219e-07, '601699,300433')\n",
      "(-5.617043137434816, 1.1679665215196353e-06, '600023,300433')\n",
      "(-5.314153220357734, 5.117872580870923e-06, '600803,600011')\n",
      "(-5.139567355684046, 1.1665725327115197e-05, '000983,002475')\n",
      "(-5.124443400485768, 1.2516222555184482e-05, '600039,300433')\n",
      "(-5.086955736567507, 1.4890852108722185e-05, '600372,000661')\n",
      "(-5.0737055834075315, 1.5830009880242826e-05, '600515,002603')\n",
      "(-5.0499788575149696, 1.7656566807224052e-05, '600803,300413')\n",
      "(-5.010266453862187, 2.11779429744831e-05, '002603,002352')\n"
     ]
    }
   ],
   "source": [
    "# 获取到前10组股票\n",
    "for i in range(10):\n",
    "    print(cadf_pq.get())"
   ]
  },
  {
   "cell_type": "code",
   "execution_count": 77,
   "id": "dccc67be",
   "metadata": {},
   "outputs": [
    {
     "data": {
      "image/png": "[encoded data removed]",
      "text/plain": [
       "<Figure size 640x480 with 1 Axes>"
      ]
     },
     "metadata": {},
     "output_type": "display_data"
    }
   ],
   "source": [
    "def plot_residuals(stock_combination):\n",
    "    stock_vec = stock_combination.split(',')\n",
    "    if len(stock_vec) != 2:\n",
    "        print('unknown stock_combination', stock_combination)\n",
    "        return\n",
    "    stock1 = stock_vec[0]\n",
    "    stock2 = stock_vec[1]\n",
    "    stock_combination = pd.DataFrame()\n",
    "    stock_combination[stock1] = quote_dict[stock1]['收盘']\n",
    "    stock_combination[stock2] = quote_dict[stock2]['收盘']\n",
    "    # 删除空值\n",
    "    stock_combination = stock_combination.dropna()\n",
    "    #print(stock_combination)\n",
    "    ## 进行OLS 训练，寻找参数\n",
    "    model = sm.OLS(stock_combination[stock1], stock_combination[stock2])\n",
    "    res= model.fit()\n",
    "    stock_combination[\"res\"] = stock_combination[stock1] - res.params[0] *stock_combination[stock2]\n",
    "    mean=np.mean(stock_combination[\"res\"])\n",
    "    std=np.std(stock_combination[\"res\"])\n",
    "    up=mean+1.5*std\n",
    "    down=mean-1.5*std\n",
    "    mean_line=pd.Series(mean,index=stock_combination.index)\n",
    "    up_line=pd.Series(up,index=stock_combination.index)\n",
    "    down_line=pd.Series(down,index=stock_combination.index)\n",
    "    stock_combination[\"res\"]\n",
    "    months = mdates.MonthLocator() # every month \n",
    "    fig, ax = plt.subplots()\n",
    "    ax.plot(stock_combination.index, stock_combination[\"res\"], label=\"Residuals\")\n",
    "    ax.plot(stock_combination.index, down_line, label=\"Down\")\n",
    "    ax.plot(stock_combination.index, up_line, label=\"Up\")\n",
    "    ax.plot(stock_combination.index, mean_line, label=\"Mean\")\n",
    "    gap = 10\n",
    "    plt.ylabel('Price')\n",
    "    plt.xlabel('Date')\n",
    "    plt.xticks(rotation=90, size=8)\n",
    "    plt.title('Residual Plot')\n",
    "    plt.legend()\n",
    "    plt.plot(stock_combination[\"res\"])\n",
    "    plt.show()\n",
    "\n",
    "plot_residuals('600803,600011')"
   ]
  },
  {
   "cell_type": "markdown",
   "id": "58649659",
   "metadata": {},
   "source": [
    "可以看到在1.5 个标准差的时候，是可以来回做套利的，价格在Up 和Down 之间振动，最后总是回到均值附近。\n",
    "\n",
    "##### 上面的过程存在哪些问题： \n",
    "Question1: 有些股票，比如浙商银行是2023-12-11 才纳入的000300， 但用于统计相关性的数据起始时间是20220101，属于使用了未来函数，因为这里只是计算股票之间的相关性，和指数成分之间关系不大，但如果基于股票池的回测中使用了这组数据呢？\n",
    "Question2: 股票价格是不一样的,两个股票分别应该交易的单位是多少才能构成配对？"
   ]
  },
  {
   "cell_type": "code",
   "execution_count": null,
   "id": "2a4c64d6",
   "metadata": {},
   "outputs": [],
   "source": []
  }
 ],
 "metadata": {
  "kernelspec": {
   "display_name": "Python 3 (ipykernel)",
   "language": "python",
   "name": "python3"
  },
  "language_info": {
   "codemirror_mode": {
    "name": "ipython",
    "version": 3
   },
   "file_extension": ".py",
   "mimetype": "text/x-python",
   "name": "python",
   "nbconvert_exporter": "python",
   "pygments_lexer": "ipython3",
   "version": "3.10.9"
  }
 },
 "nbformat": 4,
 "nbformat_minor": 5
}
