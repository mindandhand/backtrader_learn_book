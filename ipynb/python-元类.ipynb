{
 "cells": [
  {
   "cell_type": "markdown",
   "id": "36215d7c",
   "metadata": {},
   "source": [
    "type 是 Python 中所有元类的基类。你可以使用 type 函数来动态地创建类。type 函数接收三个参数：类名、基类元组和类体字典。"
   ]
  },
  {
   "cell_type": "code",
   "execution_count": 7,
   "id": "673c0292",
   "metadata": {},
   "outputs": [
    {
     "name": "stdout",
     "output_type": "stream",
     "text": [
      "<__main__.Dog1 object at 0x7fbc40ab5660>\n",
      "<class '__main__.Dog1'>\n",
      "<__main__.Dog2 object at 0x7fbc40ab62f0>\n",
      "<class '__main__.Dog2'>\n"
     ]
    }
   ],
   "source": [
    "### 以下2种方式创建的类是一样的\n",
    "# 方式 1 \n",
    "class Dog1: \n",
    "    pass\n",
    "print(Dog1())\n",
    "print(Dog1().__class__)\n",
    "\n",
    "# 方式 2\n",
    "# 可以使用 type 函数来动态地创建类。type 函数接收三个参数：类名、基类元组和类体字典。\n",
    "Dog2 = type(\"Dog2\",(),{})\n",
    "print(Dog2())\n",
    "print(Dog2().__class__)"
   ]
  },
  {
   "cell_type": "markdown",
   "id": "c8711e08",
   "metadata": {},
   "source": [
    "##### 下面看几个type创建类的例子"
   ]
  },
  {
   "cell_type": "code",
   "execution_count": 17,
   "id": "915a6946",
   "metadata": {},
   "outputs": [
    {
     "name": "stdout",
     "output_type": "stream",
     "text": [
      "Dog3: animal\n",
      "---------------\n",
      "ChildDog: animal\n",
      "---------------\n",
      "hasattr: True\n",
      "Dog4: <function bark at 0x7fbc516f1120>\n",
      "Wo Wo Wo!\n",
      "Dog4: None\n"
     ]
    }
   ],
   "source": [
    "# 1 带有类属性的类\n",
    "Dog3 = type(\"Dog3\",(),{\"specias\":\"animal\"})\n",
    "print(\"Dog3:\", Dog3.specias)\n",
    "print('---------------')\n",
    "# 2 继承自Dog3的类，继承类写在第二个参数，是一个元组\n",
    "ChildDog = type(\"ChildDog\",(Dog3,),{})\n",
    "print(\"ChildDog:\", ChildDog.specias)\n",
    "print('---------------')\n",
    "# 3 带有实例方法的类\n",
    "def bark(self):\n",
    "    print(\"Wo Wo Wo!\")\n",
    "\n",
    "Dog4 = type(\"Dog4\",(),{\"specias\":\"animal\",\"bark\":bark})\n",
    "print(\"hasattr:\",hasattr(Dog4,\"bark\"))\n",
    "print(\"Dog4 func:\", Dog4.bark)\n",
    "print(\"Dog4:\", Dog4().bark())\n",
    "# 4 带有静态方法的类\n",
    "# 5 带有类方法的类"
   ]
  },
  {
   "cell_type": "code",
   "execution_count": null,
   "id": "7257b96e",
   "metadata": {},
   "outputs": [],
   "source": []
  }
 ],
 "metadata": {
  "kernelspec": {
   "display_name": "Python 3 (ipykernel)",
   "language": "python",
   "name": "python3"
  },
  "language_info": {
   "codemirror_mode": {
    "name": "ipython",
    "version": 3
   },
   "file_extension": ".py",
   "mimetype": "text/x-python",
   "name": "python",
   "nbconvert_exporter": "python",
   "pygments_lexer": "ipython3",
   "version": "3.10.9"
  }
 },
 "nbformat": 4,
 "nbformat_minor": 5
}
