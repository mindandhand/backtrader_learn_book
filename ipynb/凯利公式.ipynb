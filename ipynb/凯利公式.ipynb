{
 "cells": [
  {
   "cell_type": "markdown",
   "id": "726a411b",
   "metadata": {},
   "source": [
    "凯利公式（Kelly formula），也称凯利方程式，是一个用以使特定赌局中，拥有正期望值之重复行为长期增长率最大化的公式。这个公式由约翰·拉里·凯利于1956年在《贝尔系统技术期刊》中发表，可用以计算出每次游戏中应投注的资金比例。凯利公式是一种优化投资策略的公式，它可以帮助投资者在长期投资中最大化其收益。"
   ]
  },
  {
   "cell_type": "markdown",
   "id": "c6360f56",
   "metadata": {},
   "source": [
    "##### 以投硬币为例，假设获胜200%收益，失败100%亏损，那应该下注多少呢？其期望值为2 * 0.5 +(-1) * 0.5 = 0.5 "
   ]
  },
  {
   "cell_type": "code",
   "execution_count": 36,
   "id": "159cf5b9",
   "metadata": {
    "ExecuteTime": {
     "end_time": "2024-02-05T06:40:46.929996Z",
     "start_time": "2024-02-05T06:40:42.322834Z"
    }
   },
   "outputs": [
    {
     "data": {
      "text/html": [
       "<div>\n",
       "<style scoped>\n",
       "    .dataframe tbody tr th:only-of-type {\n",
       "        vertical-align: middle;\n",
       "    }\n",
       "\n",
       "    .dataframe tbody tr th {\n",
       "        vertical-align: top;\n",
       "    }\n",
       "\n",
       "    .dataframe thead th {\n",
       "        text-align: right;\n",
       "    }\n",
       "</style>\n",
       "<table border=\"1\" class=\"dataframe\">\n",
       "  <thead>\n",
       "    <tr style=\"text-align: right;\">\n",
       "      <th></th>\n",
       "      <th>TestNumbers</th>\n",
       "      <th>TestResults</th>\n",
       "    </tr>\n",
       "  </thead>\n",
       "  <tbody>\n",
       "    <tr>\n",
       "      <th>0</th>\n",
       "      <td>1</td>\n",
       "      <td>2.00000</td>\n",
       "    </tr>\n",
       "    <tr>\n",
       "      <th>1</th>\n",
       "      <td>10</td>\n",
       "      <td>1.10000</td>\n",
       "    </tr>\n",
       "    <tr>\n",
       "      <th>2</th>\n",
       "      <td>1000</td>\n",
       "      <td>1.00300</td>\n",
       "    </tr>\n",
       "    <tr>\n",
       "      <th>3</th>\n",
       "      <td>10000</td>\n",
       "      <td>1.00050</td>\n",
       "    </tr>\n",
       "    <tr>\n",
       "      <th>4</th>\n",
       "      <td>100000</td>\n",
       "      <td>1.00002</td>\n",
       "    </tr>\n",
       "    <tr>\n",
       "      <th>5</th>\n",
       "      <td>1000000</td>\n",
       "      <td>1.00000</td>\n",
       "    </tr>\n",
       "  </tbody>\n",
       "</table>\n",
       "</div>"
      ],
      "text/plain": [
       "   TestNumbers  TestResults\n",
       "0            1      2.00000\n",
       "1           10      1.10000\n",
       "2         1000      1.00300\n",
       "3        10000      1.00050\n",
       "4       100000      1.00002\n",
       "5      1000000      1.00000"
      ]
     },
     "execution_count": 36,
     "metadata": {},
     "output_type": "execute_result"
    }
   ],
   "source": [
    "import pandas as pd\n",
    "## 1.1 每次100%投入多久会血本无归？ \n",
    "def cal_zero_cost_times(total_nums):\n",
    "    count = 0\n",
    "    win_times = 0\n",
    "    ## 所有实验次数\n",
    "    while count < total_nums:\n",
    "        win_or_loss = np.random.uniform(0, 1)\n",
    "        win_times = 0\n",
    "        # 一直扔，直到赔光\n",
    "        while win_or_loss >= 0.5:\n",
    "            win_times = win_times + 1\n",
    "            win_or_loss = np.random.uniform(0, 1)\n",
    "        count = count + win_times\n",
    "        # 返回平均计算，归0 的次数\n",
    "    return count/total_nums\n",
    "df = pd.DataFrame({})\n",
    "test_numbsers = [1,10,1000,10000,100000,1000000]\n",
    "df.insert(0, 'TestNumbers', test_numbsers)\n",
    "df.insert(1, 'TestResults', test_numbsers) \n",
    "df['TestResults'] = df['TestResults'].apply(cal_zero_cost_times)\n",
    "df"
   ]
  },
  {
   "cell_type": "markdown",
   "id": "8222a16f",
   "metadata": {},
   "source": [
    "从超过1000次的平均来看，基本一笔就亏空了，这反向说明数据随机性。这种赌徒式押注，从长期看注定一无所有。"
   ]
  },
  {
   "cell_type": "code",
   "execution_count": 93,
   "id": "1140fd5d",
   "metadata": {
    "ExecuteTime": {
     "end_time": "2024-02-06T01:22:30.278211Z",
     "start_time": "2024-02-06T01:22:11.509276Z"
    },
    "scrolled": true
   },
   "outputs": [
    {
     "data": {
      "text/html": [
       "<div>\n",
       "<style scoped>\n",
       "    .dataframe tbody tr th:only-of-type {\n",
       "        vertical-align: middle;\n",
       "    }\n",
       "\n",
       "    .dataframe tbody tr th {\n",
       "        vertical-align: top;\n",
       "    }\n",
       "\n",
       "    .dataframe thead th {\n",
       "        text-align: right;\n",
       "    }\n",
       "</style>\n",
       "<table border=\"1\" class=\"dataframe\">\n",
       "  <thead>\n",
       "    <tr style=\"text-align: right;\">\n",
       "      <th></th>\n",
       "      <th>TestNumbers</th>\n",
       "      <th>TestResults</th>\n",
       "    </tr>\n",
       "  </thead>\n",
       "  <tbody>\n",
       "    <tr>\n",
       "      <th>0</th>\n",
       "      <td>0.1</td>\n",
       "      <td>1.00</td>\n",
       "    </tr>\n",
       "    <tr>\n",
       "      <th>1</th>\n",
       "      <td>0.2</td>\n",
       "      <td>1.05</td>\n",
       "    </tr>\n",
       "    <tr>\n",
       "      <th>2</th>\n",
       "      <td>0.3</td>\n",
       "      <td>1.00</td>\n",
       "    </tr>\n",
       "    <tr>\n",
       "      <th>3</th>\n",
       "      <td>0.4</td>\n",
       "      <td>0.64</td>\n",
       "    </tr>\n",
       "    <tr>\n",
       "      <th>4</th>\n",
       "      <td>0.5</td>\n",
       "      <td>0.04</td>\n",
       "    </tr>\n",
       "    <tr>\n",
       "      <th>5</th>\n",
       "      <td>0.6</td>\n",
       "      <td>0.03</td>\n",
       "    </tr>\n",
       "    <tr>\n",
       "      <th>6</th>\n",
       "      <td>0.7</td>\n",
       "      <td>0.00</td>\n",
       "    </tr>\n",
       "    <tr>\n",
       "      <th>7</th>\n",
       "      <td>0.8</td>\n",
       "      <td>0.00</td>\n",
       "    </tr>\n",
       "    <tr>\n",
       "      <th>8</th>\n",
       "      <td>0.9</td>\n",
       "      <td>0.00</td>\n",
       "    </tr>\n",
       "  </tbody>\n",
       "</table>\n",
       "</div>"
      ],
      "text/plain": [
       "   TestNumbers  TestResults\n",
       "0          0.1         1.00\n",
       "1          0.2         1.05\n",
       "2          0.3         1.00\n",
       "3          0.4         0.64\n",
       "4          0.5         0.04\n",
       "5          0.6         0.03\n",
       "6          0.7         0.00\n",
       "7          0.8         0.00\n",
       "8          0.9         0.00"
      ]
     },
     "execution_count": 93,
     "metadata": {},
     "output_type": "execute_result"
    }
   ],
   "source": [
    "## 1.2 每次投入不同比例呢？ \n",
    "def cal_diff_percent_profit(test_percent, loop_times = 100,  test_cases = 10000,):\n",
    "    count = 0\n",
    "    ## 所有实验次数\n",
    "    total_value = 0.0\n",
    "    while count < test_cases:\n",
    "        init_value = 1\n",
    "        loop_number = 0 \n",
    "        # test_number次测试\n",
    "        while loop_number < loop_times:\n",
    "            is_win = np.random.uniform(-1, 1)\n",
    "            if is_win> 0:\n",
    "                # 正收益\n",
    "                init_value = init_value + init_value * test_percent\n",
    "            else:\n",
    "                # 亏了\n",
    "                init_value = init_value - init_value *test_percent\n",
    "            loop_number = loop_number + 1\n",
    "            \n",
    "        total_value = total_value + init_value\n",
    "        count = count + 1\n",
    "    return round(total_value/test_cases,2)\n",
    "df = pd.DataFrame({})\n",
    "df.insert(0, 'TestNumbers', np.arange(0.1,1,0.1))\n",
    "df.insert(1, 'TestResults', np.arange(0.1,1,0.1)) \n",
    "df['TestResults'] = df['TestResults'].apply(cal_diff_percent_profit)\n",
    "df"
   ]
  },
  {
   "cell_type": "markdown",
   "id": "4c6a9072",
   "metadata": {},
   "source": [
    "从结果上看，这个盈亏比少下仓为妙。"
   ]
  },
  {
   "cell_type": "code",
   "execution_count": 94,
   "id": "f09d39b7",
   "metadata": {
    "ExecuteTime": {
     "end_time": "2024-02-06T01:22:42.455595Z",
     "start_time": "2024-02-06T01:22:42.445050Z"
    }
   },
   "outputs": [
    {
     "data": {
      "text/html": [
       "<div>\n",
       "<style scoped>\n",
       "    .dataframe tbody tr th:only-of-type {\n",
       "        vertical-align: middle;\n",
       "    }\n",
       "\n",
       "    .dataframe tbody tr th {\n",
       "        vertical-align: top;\n",
       "    }\n",
       "\n",
       "    .dataframe thead th {\n",
       "        text-align: right;\n",
       "    }\n",
       "</style>\n",
       "<table border=\"1\" class=\"dataframe\">\n",
       "  <thead>\n",
       "    <tr style=\"text-align: right;\">\n",
       "      <th></th>\n",
       "      <th>WinRate</th>\n",
       "      <th>KellyBet</th>\n",
       "    </tr>\n",
       "  </thead>\n",
       "  <tbody>\n",
       "    <tr>\n",
       "      <th>0</th>\n",
       "      <td>0.1</td>\n",
       "      <td>-0.35</td>\n",
       "    </tr>\n",
       "    <tr>\n",
       "      <th>1</th>\n",
       "      <td>0.2</td>\n",
       "      <td>-0.20</td>\n",
       "    </tr>\n",
       "    <tr>\n",
       "      <th>2</th>\n",
       "      <td>0.3</td>\n",
       "      <td>-0.05</td>\n",
       "    </tr>\n",
       "    <tr>\n",
       "      <th>3</th>\n",
       "      <td>0.4</td>\n",
       "      <td>0.10</td>\n",
       "    </tr>\n",
       "    <tr>\n",
       "      <th>4</th>\n",
       "      <td>0.5</td>\n",
       "      <td>0.25</td>\n",
       "    </tr>\n",
       "    <tr>\n",
       "      <th>5</th>\n",
       "      <td>0.6</td>\n",
       "      <td>0.40</td>\n",
       "    </tr>\n",
       "    <tr>\n",
       "      <th>6</th>\n",
       "      <td>0.7</td>\n",
       "      <td>0.55</td>\n",
       "    </tr>\n",
       "    <tr>\n",
       "      <th>7</th>\n",
       "      <td>0.8</td>\n",
       "      <td>0.70</td>\n",
       "    </tr>\n",
       "    <tr>\n",
       "      <th>8</th>\n",
       "      <td>0.9</td>\n",
       "      <td>0.85</td>\n",
       "    </tr>\n",
       "  </tbody>\n",
       "</table>\n",
       "</div>"
      ],
      "text/plain": [
       "   WinRate  KellyBet\n",
       "0      0.1     -0.35\n",
       "1      0.2     -0.20\n",
       "2      0.3     -0.05\n",
       "3      0.4      0.10\n",
       "4      0.5      0.25\n",
       "5      0.6      0.40\n",
       "6      0.7      0.55\n",
       "7      0.8      0.70\n",
       "8      0.9      0.85"
      ]
     },
     "execution_count": 94,
     "metadata": {},
     "output_type": "execute_result"
    }
   ],
   "source": [
    "## 1.3 凯利公式怎么说？ \n",
    "# 赔率是2，因为获胜将获得200%的收益，即赢得的金额是投注金额的两倍\n",
    "def kelly_criterion(p_win, odds = 2.0):  \n",
    "    \"\"\"  \n",
    "    使用凯利公式计算最佳投注比例。  \n",
    "  \n",
    "    参数:  \n",
    "        p_win (float): 获胜的概率。  \n",
    "        odds (float): 赔率，即赢得的金额与投注金额的比例。  \n",
    "  \n",
    "    返回:  \n",
    "        float: 最佳投注比例。  \n",
    "    \"\"\"  \n",
    "    # 失败的概率  \n",
    "    p_lose = 1.0 - p_win  \n",
    "  \n",
    "    # 根据凯利公式计算最佳投注比例  \n",
    "    return (p_win * odds - p_lose) / odds  \n",
    "  \n",
    "df = pd.DataFrame({})\n",
    "df.insert(0, 'WinRate', np.arange(0.1,1,0.1))\n",
    "df.insert(1, 'KellyBet', np.arange(0.1,1,0.1)) \n",
    "# 使用凯利公式计算最佳投注比例， 赔率从0.1 到0.9 都计算\n",
    "df['KellyBet'] = df['KellyBet'].apply(kelly_criterion)\n",
    "df"
   ]
  },
  {
   "cell_type": "code",
   "execution_count": 81,
   "id": "d5546a79",
   "metadata": {
    "ExecuteTime": {
     "end_time": "2024-02-05T09:24:27.350118Z",
     "start_time": "2024-02-05T09:24:25.274524Z"
    }
   },
   "outputs": [
    {
     "name": "stdout",
     "output_type": "stream",
     "text": [
      "凯利公式计算结果收益： 1.05\n"
     ]
    }
   ],
   "source": [
    "# 只有胜率大于40的时候，凯利公式才给出了正值；在前面的例子中，胜率为0.5，赔率为2， 凯利公式推荐0.25，虽然\n",
    "print(\"凯利公式计算结果收益：\",cal_diff_percent_profit(0.25, 100,10000))"
   ]
  },
  {
   "cell_type": "markdown",
   "id": "fb09b9bc",
   "metadata": {
    "ExecuteTime": {
     "end_time": "2024-02-05T09:39:58.049614Z",
     "start_time": "2024-02-05T09:39:58.031806Z"
    }
   },
   "source": [
    "##### 在股票中使用凯利公式的例子"
   ]
  },
  {
   "cell_type": "code",
   "execution_count": 141,
   "id": "4d11aa7b",
   "metadata": {
    "ExecuteTime": {
     "end_time": "2024-02-06T02:47:57.457014Z",
     "start_time": "2024-02-06T02:47:57.394510Z"
    }
   },
   "outputs": [
    {
     "name": "stdout",
     "output_type": "stream",
     "text": [
      "最优投资比例为：6.06%\n",
      "如果你有100元的资本，你应该投入6.06元进行这次交易。\n"
     ]
    }
   ],
   "source": [
    "# 2.1 假设有一个股票，估计它有60%的概率上涨5%，有40%的概率下跌2%。使用这些信息来计算凯利公式中的最优投资比例。\n",
    "import math  \n",
    "import akshare as ak\n",
    "\n",
    "### 股票\n",
    "##### 使用akshare 获取上证指数历史行情\n",
    "df = ak.stock_zh_index_daily_em(symbol=\"sh000001\", start_date=\"20200101\", end_date=\"20210101\")\n",
    "#print(df)\n",
    "df['Return'] = df['close'].pct_change()  \n",
    "# 定义股票上涨和下跌的概率及收益率  \n",
    "\n",
    "up_days = df[df['Return'] > 0]  \n",
    "down_days = df[df['Return'] < 0]  \n",
    "  \n",
    "# 计算上涨和下跌的概率  \n",
    "win_prob = len(up_days) / len(df)  \n",
    "loss_prob = len(down_days) / len(df)  \n",
    "# 计算收益\n",
    "win_return = up_days['Return'].mean()  \n",
    "loss_return = down_days['Return'].mean()  \n",
    "\n",
    "# 盈亏比\n",
    "reward_to_risk = abs(win_return / loss_return)  \n",
    "# 计算最佳比率 \n",
    "optimal_bet_fraction = kelly_criterion(win_prob, reward_to_risk)  \n",
    "  \n",
    "# 输出最优投资比例  \n",
    "print(f\"最优投资比例为：{optimal_bet_fraction:.2%}\")  \n",
    "  \n",
    "# 假设你有10000元的资本，计算实际应该投入的金额  \n",
    "capital = 100  \n",
    "actual_bet_amount = capital * optimal_bet_fraction  \n",
    "  \n",
    "print(f\"如果你有{capital}元的资本，你应该投入{actual_bet_amount:.2f}元进行这次交易。\")\n"
   ]
  },
  {
   "cell_type": "code",
   "execution_count": null,
   "id": "fd15e487",
   "metadata": {},
   "outputs": [],
   "source": [
    "# 2.2 "
   ]
  }
 ],
 "metadata": {
  "kernelspec": {
   "display_name": "Python 3 (ipykernel)",
   "language": "python",
   "name": "python3"
  },
  "language_info": {
   "codemirror_mode": {
    "name": "ipython",
    "version": 3
   },
   "file_extension": ".py",
   "mimetype": "text/x-python",
   "name": "python",
   "nbconvert_exporter": "python",
   "pygments_lexer": "ipython3",
   "version": "3.10.13"
  },
  "toc": {
   "base_numbering": 1,
   "nav_menu": {},
   "number_sections": true,
   "sideBar": true,
   "skip_h1_title": false,
   "title_cell": "Table of Contents",
   "title_sidebar": "Contents",
   "toc_cell": false,
   "toc_position": {},
   "toc_section_display": true,
   "toc_window_display": false
  },
  "varInspector": {
   "cols": {
    "lenName": 16,
    "lenType": 16,
    "lenVar": 40
   },
   "kernels_config": {
    "python": {
     "delete_cmd_postfix": "",
     "delete_cmd_prefix": "del ",
     "library": "var_list.py",
     "varRefreshCmd": "print(var_dic_list())"
    },
    "r": {
     "delete_cmd_postfix": ") ",
     "delete_cmd_prefix": "rm(",
     "library": "var_list.r",
     "varRefreshCmd": "cat(var_dic_list()) "
    }
   },
   "types_to_exclude": [
    "module",
    "function",
    "builtin_function_or_method",
    "instance",
    "_Feature"
   ],
   "window_display": false
  }
 },
 "nbformat": 4,
 "nbformat_minor": 5
}
