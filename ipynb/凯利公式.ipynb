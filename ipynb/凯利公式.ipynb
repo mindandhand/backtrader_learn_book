{
 "cells": [
  {
   "cell_type": "markdown",
   "id": "9fdbdbc4",
   "metadata": {},
   "source": [
    "凯利公式（Kelly formula），也称凯利方程式，是一个用以使特定赌局中，拥有正期望值之重复行为长期增长率最大化的公式。这个公式由约翰·拉里·凯利于1956年在《贝尔系统技术期刊》中发表，可用以计算出每次游戏中应投注的资金比例。凯利公式是一种优化投资策略的公式，它可以帮助投资者在长期投资中最大化其收益。"
   ]
  },
  {
   "cell_type": "markdown",
   "id": "dc5de9bb",
   "metadata": {},
   "source": [
    "#### 以投硬币为例，假设获胜200%收益，失败100%亏损，那应该下注多少呢？其期望值为2 * 0.5 +(-1) * 0.5 = 0.5 "
   ]
  },
  {
   "cell_type": "code",
   "execution_count": 36,
   "id": "c3bbffb2",
   "metadata": {
    "ExecuteTime": {
     "end_time": "2024-02-05T06:40:46.929996Z",
     "start_time": "2024-02-05T06:40:42.322834Z"
    }
   },
   "outputs": [
    {
     "data": {
      "text/html": [
       "<div>\n",
       "<style scoped>\n",
       "    .dataframe tbody tr th:only-of-type {\n",
       "        vertical-align: middle;\n",
       "    }\n",
       "\n",
       "    .dataframe tbody tr th {\n",
       "        vertical-align: top;\n",
       "    }\n",
       "\n",
       "    .dataframe thead th {\n",
       "        text-align: right;\n",
       "    }\n",
       "</style>\n",
       "<table border=\"1\" class=\"dataframe\">\n",
       "  <thead>\n",
       "    <tr style=\"text-align: right;\">\n",
       "      <th></th>\n",
       "      <th>TestNumbers</th>\n",
       "      <th>TestResults</th>\n",
       "    </tr>\n",
       "  </thead>\n",
       "  <tbody>\n",
       "    <tr>\n",
       "      <th>0</th>\n",
       "      <td>1</td>\n",
       "      <td>2.00000</td>\n",
       "    </tr>\n",
       "    <tr>\n",
       "      <th>1</th>\n",
       "      <td>10</td>\n",
       "      <td>1.10000</td>\n",
       "    </tr>\n",
       "    <tr>\n",
       "      <th>2</th>\n",
       "      <td>1000</td>\n",
       "      <td>1.00300</td>\n",
       "    </tr>\n",
       "    <tr>\n",
       "      <th>3</th>\n",
       "      <td>10000</td>\n",
       "      <td>1.00050</td>\n",
       "    </tr>\n",
       "    <tr>\n",
       "      <th>4</th>\n",
       "      <td>100000</td>\n",
       "      <td>1.00002</td>\n",
       "    </tr>\n",
       "    <tr>\n",
       "      <th>5</th>\n",
       "      <td>1000000</td>\n",
       "      <td>1.00000</td>\n",
       "    </tr>\n",
       "  </tbody>\n",
       "</table>\n",
       "</div>"
      ],
      "text/plain": [
       "   TestNumbers  TestResults\n",
       "0            1      2.00000\n",
       "1           10      1.10000\n",
       "2         1000      1.00300\n",
       "3        10000      1.00050\n",
       "4       100000      1.00002\n",
       "5      1000000      1.00000"
      ]
     },
     "execution_count": 36,
     "metadata": {},
     "output_type": "execute_result"
    }
   ],
   "source": [
    "import pandas as pd\n",
    "## 1.1 每次100%投入多久会血本无归？ \n",
    "def cal_zero_cost_times(total_nums):\n",
    "    count = 0\n",
    "    win_times = 0\n",
    "    ## 所有实验次数\n",
    "    while count < total_nums:\n",
    "        win_or_loss = np.random.uniform(0, 1)\n",
    "        win_times = 0\n",
    "        # 一直扔，直到赔光\n",
    "        while win_or_loss >= 0.5:\n",
    "            win_times = win_times + 1\n",
    "            win_or_loss = np.random.uniform(0, 1)\n",
    "        count = count + win_times\n",
    "        # 返回平均计算，归0 的次数\n",
    "    return count/total_nums\n",
    "df = pd.DataFrame({})\n",
    "test_numbsers = [1,10,1000,10000,100000,1000000]\n",
    "df.insert(0, 'TestNumbers', test_numbsers)\n",
    "df.insert(1, 'TestResults', test_numbsers) \n",
    "df['TestResults'] = df['TestResults'].apply(cal_zero_cost_times)\n",
    "df"
   ]
  },
  {
   "cell_type": "markdown",
   "id": "8e946ef3",
   "metadata": {},
   "source": [
    "从超过1000次的平均来看，基本一笔就亏空了，这反向说明数据随机性。这种赌徒式押注，从长期看注定一无所有。"
   ]
  },
  {
   "cell_type": "code",
   "execution_count": 93,
   "id": "f8595a4f",
   "metadata": {
    "ExecuteTime": {
     "end_time": "2024-02-06T01:22:30.278211Z",
     "start_time": "2024-02-06T01:22:11.509276Z"
    },
    "scrolled": true
   },
   "outputs": [
    {
     "data": {
      "text/html": [
       "<div>\n",
       "<style scoped>\n",
       "    .dataframe tbody tr th:only-of-type {\n",
       "        vertical-align: middle;\n",
       "    }\n",
       "\n",
       "    .dataframe tbody tr th {\n",
       "        vertical-align: top;\n",
       "    }\n",
       "\n",
       "    .dataframe thead th {\n",
       "        text-align: right;\n",
       "    }\n",
       "</style>\n",
       "<table border=\"1\" class=\"dataframe\">\n",
       "  <thead>\n",
       "    <tr style=\"text-align: right;\">\n",
       "      <th></th>\n",
       "      <th>TestNumbers</th>\n",
       "      <th>TestResults</th>\n",
       "    </tr>\n",
       "  </thead>\n",
       "  <tbody>\n",
       "    <tr>\n",
       "      <th>0</th>\n",
       "      <td>0.1</td>\n",
       "      <td>1.00</td>\n",
       "    </tr>\n",
       "    <tr>\n",
       "      <th>1</th>\n",
       "      <td>0.2</td>\n",
       "      <td>1.05</td>\n",
       "    </tr>\n",
       "    <tr>\n",
       "      <th>2</th>\n",
       "      <td>0.3</td>\n",
       "      <td>1.00</td>\n",
       "    </tr>\n",
       "    <tr>\n",
       "      <th>3</th>\n",
       "      <td>0.4</td>\n",
       "      <td>0.64</td>\n",
       "    </tr>\n",
       "    <tr>\n",
       "      <th>4</th>\n",
       "      <td>0.5</td>\n",
       "      <td>0.04</td>\n",
       "    </tr>\n",
       "    <tr>\n",
       "      <th>5</th>\n",
       "      <td>0.6</td>\n",
       "      <td>0.03</td>\n",
       "    </tr>\n",
       "    <tr>\n",
       "      <th>6</th>\n",
       "      <td>0.7</td>\n",
       "      <td>0.00</td>\n",
       "    </tr>\n",
       "    <tr>\n",
       "      <th>7</th>\n",
       "      <td>0.8</td>\n",
       "      <td>0.00</td>\n",
       "    </tr>\n",
       "    <tr>\n",
       "      <th>8</th>\n",
       "      <td>0.9</td>\n",
       "      <td>0.00</td>\n",
       "    </tr>\n",
       "  </tbody>\n",
       "</table>\n",
       "</div>"
      ],
      "text/plain": [
       "   TestNumbers  TestResults\n",
       "0          0.1         1.00\n",
       "1          0.2         1.05\n",
       "2          0.3         1.00\n",
       "3          0.4         0.64\n",
       "4          0.5         0.04\n",
       "5          0.6         0.03\n",
       "6          0.7         0.00\n",
       "7          0.8         0.00\n",
       "8          0.9         0.00"
      ]
     },
     "execution_count": 93,
     "metadata": {},
     "output_type": "execute_result"
    }
   ],
   "source": [
    "## 1.2 每次投入不同比例呢？ \n",
    "def cal_diff_percent_profit(test_percent, loop_times = 100,  test_cases = 10000,):\n",
    "    count = 0\n",
    "    ## 所有实验次数\n",
    "    total_value = 0.0\n",
    "    while count < test_cases:\n",
    "        init_value = 1\n",
    "        loop_number = 0 \n",
    "        # test_number次测试\n",
    "        while loop_number < loop_times:\n",
    "            is_win = np.random.uniform(-1, 1)\n",
    "            if is_win> 0:\n",
    "                # 正收益\n",
    "                init_value = init_value + init_value * test_percent\n",
    "            else:\n",
    "                # 亏了\n",
    "                init_value = init_value - init_value *test_percent\n",
    "            loop_number = loop_number + 1\n",
    "            \n",
    "        total_value = total_value + init_value\n",
    "        count = count + 1\n",
    "    return round(total_value/test_cases,2)\n",
    "df = pd.DataFrame({})\n",
    "df.insert(0, 'TestNumbers', np.arange(0.1,1,0.1))\n",
    "df.insert(1, 'TestResults', np.arange(0.1,1,0.1)) \n",
    "df['TestResults'] = df['TestResults'].apply(cal_diff_percent_profit)\n",
    "df"
   ]
  },
  {
   "cell_type": "markdown",
   "id": "59823146",
   "metadata": {},
   "source": [
    "从结果上看，这个盈亏比少下仓为妙。"
   ]
  },
  {
   "cell_type": "code",
   "execution_count": 94,
   "id": "29b16c76",
   "metadata": {
    "ExecuteTime": {
     "end_time": "2024-02-06T01:22:42.455595Z",
     "start_time": "2024-02-06T01:22:42.445050Z"
    }
   },
   "outputs": [
    {
     "data": {
      "text/html": [
       "<div>\n",
       "<style scoped>\n",
       "    .dataframe tbody tr th:only-of-type {\n",
       "        vertical-align: middle;\n",
       "    }\n",
       "\n",
       "    .dataframe tbody tr th {\n",
       "        vertical-align: top;\n",
       "    }\n",
       "\n",
       "    .dataframe thead th {\n",
       "        text-align: right;\n",
       "    }\n",
       "</style>\n",
       "<table border=\"1\" class=\"dataframe\">\n",
       "  <thead>\n",
       "    <tr style=\"text-align: right;\">\n",
       "      <th></th>\n",
       "      <th>WinRate</th>\n",
       "      <th>KellyBet</th>\n",
       "    </tr>\n",
       "  </thead>\n",
       "  <tbody>\n",
       "    <tr>\n",
       "      <th>0</th>\n",
       "      <td>0.1</td>\n",
       "      <td>-0.35</td>\n",
       "    </tr>\n",
       "    <tr>\n",
       "      <th>1</th>\n",
       "      <td>0.2</td>\n",
       "      <td>-0.20</td>\n",
       "    </tr>\n",
       "    <tr>\n",
       "      <th>2</th>\n",
       "      <td>0.3</td>\n",
       "      <td>-0.05</td>\n",
       "    </tr>\n",
       "    <tr>\n",
       "      <th>3</th>\n",
       "      <td>0.4</td>\n",
       "      <td>0.10</td>\n",
       "    </tr>\n",
       "    <tr>\n",
       "      <th>4</th>\n",
       "      <td>0.5</td>\n",
       "      <td>0.25</td>\n",
       "    </tr>\n",
       "    <tr>\n",
       "      <th>5</th>\n",
       "      <td>0.6</td>\n",
       "      <td>0.40</td>\n",
       "    </tr>\n",
       "    <tr>\n",
       "      <th>6</th>\n",
       "      <td>0.7</td>\n",
       "      <td>0.55</td>\n",
       "    </tr>\n",
       "    <tr>\n",
       "      <th>7</th>\n",
       "      <td>0.8</td>\n",
       "      <td>0.70</td>\n",
       "    </tr>\n",
       "    <tr>\n",
       "      <th>8</th>\n",
       "      <td>0.9</td>\n",
       "      <td>0.85</td>\n",
       "    </tr>\n",
       "  </tbody>\n",
       "</table>\n",
       "</div>"
      ],
      "text/plain": [
       "   WinRate  KellyBet\n",
       "0      0.1     -0.35\n",
       "1      0.2     -0.20\n",
       "2      0.3     -0.05\n",
       "3      0.4      0.10\n",
       "4      0.5      0.25\n",
       "5      0.6      0.40\n",
       "6      0.7      0.55\n",
       "7      0.8      0.70\n",
       "8      0.9      0.85"
      ]
     },
     "execution_count": 94,
     "metadata": {},
     "output_type": "execute_result"
    }
   ],
   "source": [
    "## 1.3 凯利公式怎么说？ \n",
    "# 赔率是2，因为获胜将获得200%的收益，即赢得的金额是投注金额的两倍\n",
    "def kelly_criterion(p_win, odds = 2.0):  \n",
    "    \"\"\"  \n",
    "    使用凯利公式计算最佳投注比例。  \n",
    "  \n",
    "    参数:  \n",
    "        p_win (float): 获胜的概率。  \n",
    "        odds (float): 赔率，即赢得的金额与投注金额的比例。  \n",
    "  \n",
    "    返回:  \n",
    "        float: 最佳投注比例。  \n",
    "    \"\"\"  \n",
    "    # 失败的概率  \n",
    "    p_lose = 1.0 - p_win  \n",
    "  \n",
    "    # 根据凯利公式计算最佳投注比例  \n",
    "    return (p_win * odds - p_lose) / odds  \n",
    "  \n",
    "df = pd.DataFrame({})\n",
    "df.insert(0, 'WinRate', np.arange(0.1,1,0.1))\n",
    "df.insert(1, 'KellyBet', np.arange(0.1,1,0.1)) \n",
    "# 使用凯利公式计算最佳投注比例， 赔率从0.1 到0.9 都计算\n",
    "df['KellyBet'] = df['KellyBet'].apply(kelly_criterion)\n",
    "df"
   ]
  },
  {
   "cell_type": "code",
   "execution_count": 81,
   "id": "5cb1aa82",
   "metadata": {
    "ExecuteTime": {
     "end_time": "2024-02-05T09:24:27.350118Z",
     "start_time": "2024-02-05T09:24:25.274524Z"
    }
   },
   "outputs": [
    {
     "name": "stdout",
     "output_type": "stream",
     "text": [
      "凯利公式计算结果收益： 1.05\n"
     ]
    }
   ],
   "source": [
    "# 只有胜率大于40的时候，凯利公式才给出了正值；在前面的例子中，胜率为0.5，赔率为2， 凯利公式推荐0.25，虽然\n",
    "print(\"凯利公式计算结果收益：\",cal_diff_percent_profit(0.25, 100,10000))"
   ]
  },
  {
   "cell_type": "markdown",
   "id": "14ca3d29",
   "metadata": {
    "ExecuteTime": {
     "end_time": "2024-02-05T09:39:58.049614Z",
     "start_time": "2024-02-05T09:39:58.031806Z"
    }
   },
   "source": [
    "#### 在股票中使用凯利公式的例子"
   ]
  },
  {
   "cell_type": "code",
   "execution_count": 143,
   "id": "6edd4448",
   "metadata": {
    "ExecuteTime": {
     "end_time": "2024-02-07T00:28:22.968029Z",
     "start_time": "2024-02-07T00:28:22.964782Z"
    }
   },
   "outputs": [
    {
     "name": "stdout",
     "output_type": "stream",
     "text": [
      "最优投资比例为：34.90%\n"
     ]
    }
   ],
   "source": [
    "# 2.1 假设有一个股票，估计它有60%的概率上涨5%，有40%的概率下跌2%。使用这些信息来计算凯利公式中的最优投资比例。\n",
    "import math  \n",
    "import akshare as ak\n",
    "\n",
    "win_rate = 0.6  # 胜率，即60%的交易是盈利的  \n",
    "win_return = 0.05  # 盈利交易的平均收益率  \n",
    "loss_return = 0.02  # 亏损交易的平均亏损率  \n",
    "reward_to_risk = abs(win_return / loss_return) \n",
    "# 计算最佳比率 \n",
    "optimal_bet_fraction = kelly_criterion(win_prob, reward_to_risk)  \n",
    "# 输出最优投资比例  \n",
    "print(f\"最优投资比例为：{optimal_bet_fraction:.2%}\")  "
   ]
  },
  {
   "cell_type": "code",
   "execution_count": 144,
   "id": "95fc4648",
   "metadata": {
    "ExecuteTime": {
     "end_time": "2024-02-07T00:28:25.191281Z",
     "start_time": "2024-02-07T00:28:25.059611Z"
    }
   },
   "outputs": [
    {
     "name": "stdout",
     "output_type": "stream",
     "text": [
      "最优投资比例为：6.06%\n",
      "如果你有100元的资本，你应该投入6.06元进行这次交易。\n"
     ]
    }
   ],
   "source": [
    "# 2.2 使用akshare 获取一个股票，并根据历史数据计算收益和概率,计算最佳投资比例\n",
    "### 股票\n",
    "##### 使用akshare 获取上证指数历史行情\n",
    "df = ak.stock_zh_index_daily_em(symbol=\"sh000001\", start_date=\"20200101\", end_date=\"20210101\")\n",
    "#print(df)\n",
    "df['Return'] = df['close'].pct_change()  \n",
    "# 定义股票上涨和下跌的概率及收益率  \n",
    "\n",
    "up_days = df[df['Return'] > 0]  \n",
    "down_days = df[df['Return'] < 0]  \n",
    "  \n",
    "# 计算上涨和下跌的概率  \n",
    "win_prob = len(up_days) / len(df)  \n",
    "loss_prob = len(down_days) / len(df)  \n",
    "# 计算收益\n",
    "win_return = up_days['Return'].mean()  \n",
    "loss_return = down_days['Return'].mean()  \n",
    "\n",
    "# 盈亏比\n",
    "reward_to_risk = abs(win_return / loss_return)  \n",
    "# 计算最佳比率 \n",
    "optimal_bet_fraction = kelly_criterion(win_prob, reward_to_risk)  \n",
    "  \n",
    "# 输出最优投资比例  \n",
    "print(f\"最优投资比例为：{optimal_bet_fraction:.2%}\")  \n",
    "  \n",
    "# 假设你有10000元的资本，计算实际应该投入的金额  \n",
    "capital = 100  \n",
    "actual_bet_amount = capital * optimal_bet_fraction  \n",
    "  \n",
    "print(f\"如果你有{capital}元的资本，你应该投入{actual_bet_amount:.2f}元进行这次交易。\")"
   ]
  },
  {
   "cell_type": "markdown",
   "id": "146246e0",
   "metadata": {
    "ExecuteTime": {
     "end_time": "2024-02-07T00:28:56.211647Z",
     "start_time": "2024-02-07T00:28:56.209514Z"
    }
   },
   "source": [
    "#### 使用凯利公式计算杠杆倍数与预期收益\n",
    "\n",
    "假设有一组由 N 个算法交易策略组成的策略集，要确定如何为每个策略应用最优杠杆以最大化增长率（同时最小化回撤），以及如何在每个策略之间分配资本。如果用向量 f 表示每个策略 i 之间的分配，其中 f 的长度为 N，即 f = (f1, ..., fN)，那么每个策略 fi 的凯利公式最优分配由以下公式给出：\n",
    "\n",
    "fi = μi/σi² \n",
    "\n",
    "其中，μi 是策略 i 的平均超额收益，σi 是策略 i 超额收益的标准差。这个公式基本上描述了应该为每个策略应用的最优杠杆。\n",
    "\n",
    "凯利准则根据每个投资的预期回报和风险来确定资本的最优分配。应用步骤如下：\n",
    "\n",
    "1. 计算超额收益： 对于每个策略，通过从实际回报中减去无风险利率来计算超额收益。\n",
    "\n",
    "2. 估计均值和方差： 基于历史数据或其他合适的方法，为每个策略估计超额收益的均值和方差。\n",
    "\n",
    "3. 应用公式： 使用公式 fi = μi/σi² 来计算每个策略的最优分配。\n",
    "\n",
    "4. 规范化分配： 确保所有分配的总和等于 1（或 100%），通过对 fi 值进行规范化来实现。这一步是必要的，以确保所有资本都分配给了各个策略。\n",
    "\n",
    "5. 监控和调整： 由于市场条件会发生变化，因此需要监控策略的性能，并相应地调整分配。这可能涉及重新估计均值和方差，或定期重新平衡分配。\n",
    "\n",
    "凯利公式提供了理论上的最优分配。\n",
    "\n",
    "另外， 凯利公式提供了最优的杠杆和策略分配，但它并不直接告诉投资组合的长期复合增长率是多少。为了计算这个期望增长率（通常表示为 (g)），可以使用如下公式进行计算：\n",
    "\n",
    "g = r +S^2/2\n",
    "r：无风险利率，通常与某个国债或政府债券的利率相关，因为这些通常被认为是无风险的。\n",
    "S：策略的年化夏普比率（Sharpe Ratio）。\n",
    "\n",
    "其背后的理念是，投资组合的长期增长率不仅与无风险利率有关，还与其风险调整后的表现（即夏普比率）有关。夏普比率越高，投资组合相对于其风险的表现越好，因此预期的长期增长率也越高。"
   ]
  },
  {
   "cell_type": "code",
   "execution_count": 164,
   "id": "a8ea99ed",
   "metadata": {
    "ExecuteTime": {
     "end_time": "2024-02-07T06:13:46.657327Z",
     "start_time": "2024-02-07T06:13:46.653555Z"
    }
   },
   "outputs": [
    {
     "name": "stdout",
     "output_type": "stream",
     "text": [
      "sharp_ratio:0.42\n",
      "最优杠杆为:3.47\n",
      "预期收益为:0.12\n"
     ]
    }
   ],
   "source": [
    "# 假设股票a 年化平均收益为 8%，标准差为 12%， 无风险利率 为3%，\n",
    "stock_return = 0.08\n",
    "risk_free_return = 0.03\n",
    "annual_standard_deviation = 0.12\n",
    "ui = stock_return - risk_free_return\n",
    "sharp_ratio = ui / annual_standard_deviation\n",
    "## sharp ratio\n",
    "print(f\"sharp_ratio:{sharp_ratio:.2f}\")\n",
    "optimal_kelly_leverage = ui/annual_standard_deviation/annual_standard_deviation\n",
    "print(f\"最优杠杆为:{optimal_kelly_leverage:.2f}\")\n",
    "expect_return = risk_free_return + sharp_ratio* sharp_ratio /2 \n",
    "print(f\"预期收益为:{expect_return:.2f}\")"
   ]
  },
  {
   "cell_type": "markdown",
   "id": "79273807",
   "metadata": {},
   "source": [
    "计算出来最优秀杠杆为1.39, 即你有10000本金的话，在不考虑交易成本等因素的情况下，做多可以借入（3.47-1）*10000 = 24700 元进行交易，且收益率也不是股票的历史年华收益，而是12%。\n",
    "\n",
    "**凯利公式要求持续调整资本配置以保持其有效性**。在实际交易的离散环境中，这是不可能实现的，这里的标准“经验法则”是每天更新一次凯利配置。此外，应定期使用最新周期数据的平均值和标准偏差重新计算凯利准则本身。对于每天大约交易一次的策略，可以使用3-6个月的每日回报。"
   ]
  },
  {
   "cell_type": "markdown",
   "id": "b0ed6a1b",
   "metadata": {
    "ExecuteTime": {
     "end_time": "2024-02-07T07:34:34.972850Z",
     "start_time": "2024-02-07T07:34:34.953862Z"
    }
   },
   "source": [
    "#### 风险管理\n",
    "估算算法交易策略或策略组合的损失风险对于长期资本增长极为重要。有一种特别的技术被称为风险价值（Value at Risk，VaR）。VaR在给定置信度下，提供了对特定时间段内投资组合可能发生的损失规模的估计。"
   ]
  },
  {
   "cell_type": "code",
   "execution_count": 170,
   "id": "f786bb9c",
   "metadata": {
    "ExecuteTime": {
     "end_time": "2024-02-07T07:54:11.836322Z",
     "start_time": "2024-02-07T07:54:11.750065Z"
    }
   },
   "outputs": [
    {
     "name": "stdout",
     "output_type": "stream",
     "text": [
      "VaR at 90.0% confidence level: 0.0360\n",
      "VaR at 95.0% confidence level: 0.0462\n",
      "VaR at 99.0% confidence level: 0.0653\n",
      "Expected Portfolio Return: 0.0006\n",
      "Portfolio Standard Deviation: 0.0281\n"
     ]
    }
   ],
   "source": [
    "# 使用方差-协方差方法来计算投资组合的VaR\n",
    "\n",
    "import numpy as np  \n",
    "import pandas as pd  \n",
    "from scipy.stats import norm  \n",
    "  \n",
    "# 假设我们有两个资产的历史日收益率数据  \n",
    "astock = ak.stock_zh_a_hist(symbol='603023', period=\"daily\", start_date=\"20220101\", end_date='20231231', adjust=\"hfq\")\n",
    "astock.index = astock['日期']\n",
    "bstock = ak.stock_zh_a_hist(symbol='601916', period=\"daily\", start_date=\"20220101\", end_date='20231231', adjust=\"hfq\")\n",
    "bstock.index = bstock['日期']\n",
    "#print(bstock)\n",
    "returns = pd.DataFrame({})\n",
    "returns['Asset1'] = astock['收盘'].pct_change()\n",
    "returns['Asset2'] = astock['收盘'].pct_change()\n",
    "  \n",
    "# 计算资产的均值  \n",
    "mean_returns = returns.mean()  \n",
    "  \n",
    "# 计算资产的协方差矩阵  \n",
    "cov_matrix = returns.cov()  \n",
    "  \n",
    "# 定义投资组合的权重（这里假设是等权重）  \n",
    "portfolio_weights = np.array([0.5, 0.5])  \n",
    "  \n",
    "# 计算投资组合的预期收益率  \n",
    "expected_portfolio_return = np.sum(mean_returns * portfolio_weights)  \n",
    "  \n",
    "# 计算投资组合的方差  \n",
    "portfolio_variance = np.dot(portfolio_weights.T, np.dot(cov_matrix, portfolio_weights))  \n",
    "  \n",
    "# 计算投资组合的标准差  \n",
    "portfolio_std_dev = np.sqrt(portfolio_variance)  \n",
    "  \n",
    "# 定义置信水平  \n",
    "confidence_levels = [0.90, 0.95, 0.99]  \n",
    "  \n",
    "# 计算不同置信水平下的VaR  \n",
    "for confidence_level in confidence_levels:  \n",
    "    z_score = norm.ppf(confidence_level)  # 正态分布的z分数  \n",
    "    VaR = portfolio_std_dev * z_score  \n",
    "    print(f\"VaR at {confidence_level * 100}% confidence level: {VaR:.4f}\")  \n",
    "    \n",
    "# 输出投资组合的预期收益  \n",
    "print(f\"Expected Portfolio Return: {expected_portfolio_return:.4f}\")  \n",
    "  \n",
    "# 输出投资组合的标准差  \n",
    "print(f\"Portfolio Standard Deviation: {portfolio_std_dev:.4f}\")"
   ]
  },
  {
   "cell_type": "markdown",
   "id": "92df44d4",
   "metadata": {},
   "source": [
    "Ref:\n",
    "1. https://zhuanlan.zhihu.com/p/491841440\n",
    "2. Successful Algorithmic Trading"
   ]
  }
 ],
 "metadata": {
  "kernelspec": {
   "display_name": "Python 3 (ipykernel)",
   "language": "python",
   "name": "python3"
  },
  "language_info": {
   "codemirror_mode": {
    "name": "ipython",
    "version": 3
   },
   "file_extension": ".py",
   "mimetype": "text/x-python",
   "name": "python",
   "nbconvert_exporter": "python",
   "pygments_lexer": "ipython3",
   "version": "3.10.13"
  },
  "toc": {
   "base_numbering": 1,
   "nav_menu": {},
   "number_sections": true,
   "sideBar": true,
   "skip_h1_title": false,
   "title_cell": "Table of Contents",
   "title_sidebar": "Contents",
   "toc_cell": false,
   "toc_position": {},
   "toc_section_display": true,
   "toc_window_display": false
  },
  "varInspector": {
   "cols": {
    "lenName": 16,
    "lenType": 16,
    "lenVar": 40
   },
   "kernels_config": {
    "python": {
     "delete_cmd_postfix": "",
     "delete_cmd_prefix": "del ",
     "library": "var_list.py",
     "varRefreshCmd": "print(var_dic_list())"
    },
    "r": {
     "delete_cmd_postfix": ") ",
     "delete_cmd_prefix": "rm(",
     "library": "var_list.r",
     "varRefreshCmd": "cat(var_dic_list()) "
    }
   },
   "types_to_exclude": [
    "module",
    "function",
    "builtin_function_or_method",
    "instance",
    "_Feature"
   ],
   "window_display": false
  }
 },
 "nbformat": 4,
 "nbformat_minor": 5
}
