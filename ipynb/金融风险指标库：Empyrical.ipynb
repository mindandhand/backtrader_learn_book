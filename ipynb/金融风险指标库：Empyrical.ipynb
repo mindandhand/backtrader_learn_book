{
 "cells": [
  {
   "cell_type": "markdown",
   "id": "f3246a82",
   "metadata": {},
   "source": [
    "Empyrical是一个金融风险指标库，可以用于计算和评估各种金融风险指标。它能够用于计算年平均回报、最大回撤、Alpha值、Beta值、卡尔马率、Omega率、夏普率等关键指标。\n",
    "\n",
    "Empyrical接口简洁，计算效率非常高，能够快速处理大量数据并返回准确的结果。\n",
    "\n",
    "下面结合akshare 对常见方法做说明。"
   ]
  },
  {
   "cell_type": "code",
   "execution_count": 1,
   "id": "4f38343d",
   "metadata": {},
   "outputs": [],
   "source": [
    "from __future__ import print_function\n",
    "from abc import ABCMeta, abstractmethod \n",
    "import datetime\n",
    "import threading  \n",
    "import os, os.path\n",
    "import numpy as np \n",
    "import pandas as pd\n",
    "import akshare as ak"
   ]
  },
  {
   "cell_type": "code",
   "execution_count": null,
   "id": "b494c838",
   "metadata": {},
   "outputs": [],
   "source": []
  }
 ],
 "metadata": {
  "kernelspec": {
   "display_name": "Python 3 (ipykernel)",
   "language": "python",
   "name": "python3"
  },
  "language_info": {
   "codemirror_mode": {
    "name": "ipython",
    "version": 3
   },
   "file_extension": ".py",
   "mimetype": "text/x-python",
   "name": "python",
   "nbconvert_exporter": "python",
   "pygments_lexer": "ipython3",
   "version": "3.10.9"
  }
 },
 "nbformat": 4,
 "nbformat_minor": 5
}
