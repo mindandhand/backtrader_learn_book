{
 "cells": [
  {
   "cell_type": "markdown",
   "id": "f3246a82",
   "metadata": {},
   "source": [
    "Empyrical是一个金融风险指标库，可以用于计算和评估各种金融风险指标。它能够用于计算年平均回报、最大回撤、Alpha值、Beta值、卡尔马率、Omega率、夏普率等关键指标。 Empyrical接口简洁，计算效率非常高，能够快速处理大量数据并返回准确的结果。\n",
    "\n",
    "\n",
    "下面结合akshare 对常见方法做说明。\n",
    "\n",
    "##### 安装：\n",
    "```\n",
    "pip install empyrical\n",
    "\n",
    "```"
   ]
  },
  {
   "cell_type": "code",
   "execution_count": 20,
   "id": "4f38343d",
   "metadata": {
    "ExecuteTime": {
     "end_time": "2024-04-12T08:18:53.020516Z",
     "start_time": "2024-04-12T08:18:51.558498Z"
    }
   },
   "outputs": [],
   "source": [
    "from __future__ import print_function\n",
    "from abc import ABCMeta, abstractmethod \n",
    "import datetime\n",
    "import threading  \n",
    "import os, os.path\n",
    "import numpy as np \n",
    "import pandas as pd\n",
    "import akshare as ak\n",
    "import empyrical as em  "
   ]
  },
  {
   "cell_type": "markdown",
   "id": "fe59c33c",
   "metadata": {},
   "source": [
    "##### 准备数据"
   ]
  },
  {
   "cell_type": "code",
   "execution_count": 3,
   "id": "b494c838",
   "metadata": {
    "ExecuteTime": {
     "end_time": "2024-04-12T10:58:25.539999Z",
     "start_time": "2024-04-12T10:58:25.438102Z"
    }
   },
   "outputs": [
    {
     "name": "stdout",
     "output_type": "stream",
     "text": [
      "           日期     开盘     收盘     最高     最低      成交量           成交额    振幅   涨跌幅  \\\n",
      "0  2023-01-03  12.92  13.49  13.57  12.77  2194128  2.971547e+09  6.21  4.74   \n",
      "1  2023-01-04  13.43  14.04  14.14  13.35  2189683  3.110729e+09  5.86  4.08   \n",
      "2  2023-01-05  14.12  14.20  14.46  14.09  1665425  2.417272e+09  2.64  1.14   \n",
      "\n",
      "    涨跌额   换手率  \n",
      "0  0.61  1.13  \n",
      "1  0.55  1.13  \n",
      "2  0.16  0.86  \n",
      "         date     open    close     high      low     volume        amount\n",
      "0  2023-01-03  3087.51  3116.51  3119.86  3073.05  281370362  3.313921e+11\n",
      "1  2023-01-04  3117.57  3123.52  3129.09  3109.45  273313626  3.163912e+11\n",
      "2  2023-01-05  3132.76  3155.22  3159.43  3130.23  257003018  3.356359e+11\n"
     ]
    }
   ],
   "source": [
    "## 使用Empyrical计算 \n",
    "# 使用AkShare获取股票历史价格数据,以深圳平安银行为例  \n",
    "stock_data = ak.stock_zh_a_hist(symbol=\"000001\", period=\"daily\", start_date=\"20230101\", end_date='20231231', adjust=\"qfq\")  \n",
    "print(stock_data[:3])\n",
    "# 提取收盘价数据  \n",
    "close_prices = stock_data['收盘']  \n",
    "\n",
    "index_data = ak.stock_zh_index_daily_em(symbol=\"sh000001\", start_date=\"20230101\", end_date=\"20231231\")\n",
    "print(index_data[:3])\n",
    "index_close_prices = index_data['close']\n",
    "# 计算日收益率  \n",
    "returns = close_prices.pct_change().dropna()  \n",
    "index_returns = index_close_prices.pct_change().dropna() "
   ]
  },
  {
   "cell_type": "markdown",
   "id": "f867bf3f",
   "metadata": {},
   "source": [
    "##### Empyrical 示例"
   ]
  },
  {
   "cell_type": "code",
   "execution_count": 23,
   "id": "955966a8",
   "metadata": {
    "ExecuteTime": {
     "end_time": "2024-04-12T10:54:31.790518Z",
     "start_time": "2024-04-12T10:54:31.762908Z"
    }
   },
   "outputs": [
    {
     "name": "stdout",
     "output_type": "stream",
     "text": [
      "em计算股票 的历史波动率为: 0.2135\n"
     ]
    }
   ],
   "source": [
    "# jisauuuuuuuuuuuuuuuu\n",
    "volatility = em.annual_volatility(returns)  \n",
    "\n",
    "print(f\"em计算股票 的历史波动率为: {volatility:.4f}\")"
   ]
  },
  {
   "cell_type": "code",
   "execution_count": 24,
   "id": "eb1e71f5",
   "metadata": {
    "ExecuteTime": {
     "end_time": "2024-04-12T10:54:35.555464Z",
     "start_time": "2024-04-12T10:54:35.479921Z"
    }
   },
   "outputs": [
    {
     "name": "stdout",
     "output_type": "stream",
     "text": [
      "em计算股票 的最大回撤为: -0.3927\n"
     ]
    }
   ],
   "source": [
    "max_drawdown = em.max_drawdown(returns) \n",
    "print(f\"em计算股票 的最大回撤为: {max_drawdown:.4f}\")"
   ]
  },
  {
   "cell_type": "code",
   "execution_count": 25,
   "id": "f1960a94",
   "metadata": {
    "ExecuteTime": {
     "end_time": "2024-04-12T10:54:35.618179Z",
     "start_time": "2024-04-12T10:54:35.579286Z"
    }
   },
   "outputs": [
    {
     "name": "stdout",
     "output_type": "stream",
     "text": [
      "em计算股票 的夏普比为: -1.6672\n"
     ]
    }
   ],
   "source": [
    "sharpe_ratio = em.sharpe_ratio(returns, risk_free=0, period='daily', annualization=None)\n",
    "print(f\"em计算股票 的夏普比为: {sharpe_ratio:.4f}\")"
   ]
  },
  {
   "cell_type": "code",
   "execution_count": 32,
   "id": "027bcc7f",
   "metadata": {
    "ExecuteTime": {
     "end_time": "2024-04-12T10:59:02.019417Z",
     "start_time": "2024-04-12T10:59:01.997726Z"
    }
   },
   "outputs": [
    {
     "name": "stdout",
     "output_type": "stream",
     "text": [
      "em计算股票 的beta为: 1.2533\n"
     ]
    }
   ],
   "source": [
    "#em.beta?\n",
    "beta = em.beta(returns, index_returns)\n",
    "print(f\"em计算股票 的beta为: {beta:.4f}\")"
   ]
  }
 ],
 "metadata": {
  "kernelspec": {
   "display_name": "Python 3 (ipykernel)",
   "language": "python",
   "name": "python3"
  },
  "language_info": {
   "codemirror_mode": {
    "name": "ipython",
    "version": 3
   },
   "file_extension": ".py",
   "mimetype": "text/x-python",
   "name": "python",
   "nbconvert_exporter": "python",
   "pygments_lexer": "ipython3",
   "version": "3.10.9"
  },
  "toc": {
   "base_numbering": 1,
   "nav_menu": {},
   "number_sections": true,
   "sideBar": true,
   "skip_h1_title": false,
   "title_cell": "Table of Contents",
   "title_sidebar": "Contents",
   "toc_cell": false,
   "toc_position": {},
   "toc_section_display": true,
   "toc_window_display": false
  },
  "varInspector": {
   "cols": {
    "lenName": 16,
    "lenType": 16,
    "lenVar": 40
   },
   "kernels_config": {
    "python": {
     "delete_cmd_postfix": "",
     "delete_cmd_prefix": "del ",
     "library": "var_list.py",
     "varRefreshCmd": "print(var_dic_list())"
    },
    "r": {
     "delete_cmd_postfix": ") ",
     "delete_cmd_prefix": "rm(",
     "library": "var_list.r",
     "varRefreshCmd": "cat(var_dic_list()) "
    }
   },
   "types_to_exclude": [
    "module",
    "function",
    "builtin_function_or_method",
    "instance",
    "_Feature"
   ],
   "window_display": false
  }
 },
 "nbformat": 4,
 "nbformat_minor": 5
}
