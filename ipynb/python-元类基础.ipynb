{
 "cells": [
  {
   "cell_type": "markdown",
   "id": "6d4887c0",
   "metadata": {},
   "source": [
    "类是一种模板，用于创建对象。对象是根据类创建的实例，它们拥有类定义的属性和方法。通过创建类的实例（即对象），可以在程序中实现抽象的概念，并使用这些对象进行交互，从而实现复杂的程序逻辑。\n",
    "\n",
    "元类（metaclass）是一个高阶概念，它用于创建类。可以把元类看作是创建类的\"类\"。当创建一个类时，实际上是在创建一个元类的实例。\n",
    "\n",
    "元类的主要用途是改变类的创建行为，或者在类创建之后对其进行修改。例如，你可以使用元类来自动添加方法、修改属性或执行其他任何在类创建时需要的操作。\n",
    "\n",
    "\n",
    "##### class关键字创建类"
   ]
  },
  {
   "cell_type": "code",
   "execution_count": 25,
   "id": "507bd676",
   "metadata": {
    "ExecuteTime": {
     "end_time": "2024-02-21T01:56:00.468912Z",
     "start_time": "2024-02-21T01:56:00.463182Z"
    }
   },
   "outputs": [
    {
     "name": "stdout",
     "output_type": "stream",
     "text": [
      "name: Peppa\n",
      "age:  4\n",
      "Peppa says, 'I am a Pig!'\n",
      "Animal\n"
     ]
    }
   ],
   "source": [
    "class Pig:  \n",
    "    # 类变量\n",
    "    species = \"Animal\"  \n",
    "  \n",
    "    # 初始化方法，在创建新实例时自动调用  \n",
    "    def __init__(self, name, age):  \n",
    "        # 实例变量，每个实例都有自己独立的值  \n",
    "        self.name = name  \n",
    "        self.age = age  \n",
    "  \n",
    "    # 一个实例方法\n",
    "    def bark(self):  \n",
    "        return f\"{self.name} says, 'I am a Pig!'\"  \n",
    "    \n",
    "# 创建Dog类的一个实例  \n",
    "peppa_pig = Pig(\"Peppa\", 4)  \n",
    "  \n",
    "# 访问实例变量  \n",
    "print(\"name:\",peppa_pig.name)  # 输出: Peppa  \n",
    "print(\"age: \", peppa_pig.age)   # 输出: 4 \n",
    "  \n",
    "# 调用实例方法  \n",
    "print(peppa_pig.bark())  # 输出:I am PeppaPig  \n",
    "  \n",
    "# 访问类变量  \n",
    "print(Pig.species)  # 输出: Animal"
   ]
  },
  {
   "cell_type": "code",
   "execution_count": 26,
   "id": "2edddfaa",
   "metadata": {
    "ExecuteTime": {
     "end_time": "2024-02-21T01:56:05.499770Z",
     "start_time": "2024-02-21T01:56:05.494335Z"
    }
   },
   "outputs": [
    {
     "name": "stdout",
     "output_type": "stream",
     "text": [
      "<__main__.Pig object at 0x7fe0287b2860>\n",
      "name: George\n",
      "age:  2\n",
      "George says, 'I am a Pig!'\n",
      "<class '__main__.Pig'>\n",
      "<class 'type'>\n",
      "<class 'type'>\n"
     ]
    }
   ],
   "source": [
    "#### Pig 是一个类，也是一个对象，可以进行拷贝\n",
    "CopyPig = Pig\n",
    "george_pig = CopyPig(\"George\", 2)\n",
    "# 打印copy 创建的对象\n",
    "print(george_pig)\n",
    "# 访问实例变量  \n",
    "print(\"name:\",george_pig.name)  \n",
    "print(\"age: \", george_pig.age)  \n",
    "\n",
    "#### 类可以作为参数\n",
    "def call_bark(o):\n",
    "    print(o.bark())\n",
    "call_bark(george_pig)\n",
    "\n",
    "# 内置方式 __class__ 保存了创建这个对象的类\n",
    "# 查看 george_pig的__class__, 是Pig创建的\n",
    "print(george_pig.__class__)\n",
    "# Pig是谁创建的呢？\n",
    "print(george_pig.__class__.__class__)\n",
    "# 创建Pig的类又是谁创建的\n",
    "print(george_pig.__class__.__class__.__class__)"
   ]
  },
  {
   "cell_type": "markdown",
   "id": "9d0f3641",
   "metadata": {},
   "source": [
    "从上面的结果可以看到，最终类的创建可以归结到type。\n",
    "##### type关键字创建类\n",
    "type 是 Python 中所有元类的基类,可以使用 type 函数来动态地创建类,type 函数接收三个参数：类名、基类元组和类体字典。\n",
    "下面几个例子说明type 的用法："
   ]
  },
  {
   "cell_type": "code",
   "execution_count": 27,
   "id": "f613183d",
   "metadata": {
    "ExecuteTime": {
     "end_time": "2024-02-21T01:56:07.961100Z",
     "start_time": "2024-02-21T01:56:07.957882Z"
    }
   },
   "outputs": [
    {
     "name": "stdout",
     "output_type": "stream",
     "text": [
      "<__main__.Dog1 object at 0x7fe0287b0d60>\n",
      "<class '__main__.Dog1'>\n",
      "<__main__.Dog2 object at 0x7fe029c4d900>\n",
      "<class '__main__.Dog2'>\n"
     ]
    }
   ],
   "source": [
    "\n",
    "### 以下2种方式创建的类是一样的\n",
    "# 方式 1 \n",
    "class Dog1: \n",
    "    pass\n",
    "print(Dog1())\n",
    "print(Dog1().__class__)\n",
    "\n",
    "# 方式 2\n",
    "# 可以使用 type 函数来动态地创建类。type 函数接收三个参数：类名、基类元组和类体字典。\n",
    "Dog2 = type(\"Dog2\",(),{})\n",
    "print(Dog2())\n",
    "print(Dog2().__class__)"
   ]
  },
  {
   "cell_type": "code",
   "execution_count": 45,
   "id": "ec6d2120",
   "metadata": {
    "ExecuteTime": {
     "end_time": "2024-02-21T02:09:36.064046Z",
     "start_time": "2024-02-21T02:09:36.056606Z"
    }
   },
   "outputs": [
    {
     "name": "stdout",
     "output_type": "stream",
     "text": [
      "Dog3: animal\n",
      "---------------\n",
      "ChildDog: animal\n",
      "---------------\n",
      "hasattr bark: True\n",
      "Dog4 func: <function bark at 0x7fe0298269e0>\n",
      "Dog4 func(): Wo Wo Wo!\n",
      "---------------\n",
      "hasattr test_static_method: True\n",
      "Dog5 func: <function test_static_method at 0x7fe029bd0040>\n",
      "Dog5 func(): static method ....\n",
      "---------------\n",
      "hasattr test_class_method: True\n",
      "Dog6 func: <bound method test_class_method of <class '__main__.Dog6'>>\n",
      "Dog6: ('class method ....', 'animal')\n"
     ]
    }
   ],
   "source": [
    "# 1 带有类属性的类\n",
    "Dog3 = type(\"Dog3\",(),{\"specias\":\"animal\"})\n",
    "print(\"Dog3:\", Dog3.specias)\n",
    "print('---------------')\n",
    "\n",
    "\n",
    "# 2 继承自Dog3的类，继承类写在第二个参数，是一个元组\n",
    "ChildDog = type(\"ChildDog\",(Dog3,),{})\n",
    "print(\"ChildDog:\", ChildDog.specias)\n",
    "print('---------------')\n",
    "\n",
    "\n",
    "# 3 带有实例方法的类\n",
    "def bark(self):\n",
    "    return (\"Wo Wo Wo!\")\n",
    "\n",
    "Dog4 = type(\"Dog4\",(),{\"specias\":\"animal\",\"bark\":bark})\n",
    "print(\"hasattr bark:\",hasattr(Dog4,\"bark\"))\n",
    "print(\"Dog4 func:\", Dog4.bark)\n",
    "print(\"Dog4 func():\", Dog4().bark())\n",
    "print('---------------')\n",
    "\n",
    "\n",
    "# 4 带有静态方法的类\n",
    "\n",
    "@staticmethod\n",
    "def test_static_method():\n",
    "    return (\"static method ....\")\n",
    "\n",
    "Dog5 = type(\"Dog5\",(),{\"specias\":\"animal\",\"bark\":bark,\"test_static_method\":test_static_method})    \n",
    "print(\"hasattr test_static_method:\",hasattr(Dog5,\"test_static_method\"))\n",
    "print(\"Dog5 func:\", Dog5.test_static_method)\n",
    "print(\"Dog5 func():\", Dog5().test_static_method())\n",
    "print('---------------')\n",
    "\n",
    "\n",
    "# 5 带有类方法的类 \n",
    "# 注意：类方法有参数，一般约定为cls，静态方法没有，静态方法不能调用类参数\n",
    "@classmethod\n",
    "def test_class_method(cls):\n",
    "    return (f\"class method ....\",cls.specias)\n",
    "Dog6 = type(\"Dog6\",(),{\"specias\":\"animal\",\"bark\":bark,\"test_class_method\":test_class_method})\n",
    "print(\"hasattr test_class_method:\",hasattr(Dog6,\"test_class_method\"))\n",
    "print(\"Dog6 func:\", Dog6.test_class_method)\n",
    "print(\"Dog6:\", Dog6().test_class_method())\n"
   ]
  },
  {
   "cell_type": "markdown",
   "id": "d143d77e",
   "metadata": {},
   "source": [
    "##### 自定义元类\n",
    "对于创建类，Python做了如下的操作：\n",
    "\n",
    "- 创建的类中有__metaclass__这个属性吗？如果是，Python会通过__metaclass__创建类(对象)\n",
    "- 如果Python没有找到__metaclass__，它会继续在父类中寻找__metaclass__属性，并尝试做和前面同样的操作。\n",
    "- 如果Python在任何父类中都找不到__metaclass__，它就会在模块层次中去寻找__metaclass__，并尝试做同样的操作。\n",
    "- 如果还是找不到__metaclass__,Python就会用内置的type来创建这个类对象。\n",
    "\n",
    "所以，可以通过重新类的__metaclass__ 来自定义元类，以控制类的创建，实现自动地改变类，而无需通过class 再进行编码定义。\n",
    "自定义元类通常需要继承type，并重写其__new__和__init__方法。\n"
   ]
  },
  {
   "cell_type": "code",
   "execution_count": 69,
   "id": "d15df2da",
   "metadata": {
    "ExecuteTime": {
     "end_time": "2024-02-23T02:06:19.523016Z",
     "start_time": "2024-02-23T02:06:19.511380Z"
    }
   },
   "outputs": [
    {
     "name": "stdout",
     "output_type": "stream",
     "text": [
      "Creating class MyClass\n",
      "=======>print attrs \n",
      "MyClassAttr:MyClassAttr\n",
      "print_member:<function MyClass.print_member at 0x7fe02bee12d0>\n",
      "additional_attribute:This is an additional attribute added by the metaclass.\n",
      "=======>print attrs \n",
      "Initializing class MyClass\n",
      "MyClass.__class_: <class '__main__.MyMeta'>\n",
      "-------------\n",
      "Initializing instance of MyClass\n",
      "This is an additional attribute added by the metaclass.\n",
      "MyClassAttr\n",
      "member is member\n",
      "-------------\n",
      "Initializing instance of MyClass\n",
      "This is an additional attribute added by the metaclass.\n",
      "MyClassAttr\n",
      "member is member\n"
     ]
    }
   ],
   "source": [
    "## 下面是自定义元类的一个例子：\n",
    "class MyMeta(type):  \n",
    "    ## __new__ 方法需要返回一个对象，以完成对象的创建\n",
    "    ## 在__init__之前被调用\n",
    "    def __new__(cls, name, bases, attrs):  \n",
    "        print(f\"Creating class {name}\")  \n",
    "        # 在这里可以修改或添加属性  \n",
    "        #print(attrs)\n",
    "        attrs['additional_attribute'] = 'This is an additional attribute added by the metaclass.'  \n",
    "        print(\"=======>print attrs \")\n",
    "        for name,value in attrs.items():\n",
    "            if not name.startswith(\"__\"):\n",
    "                print(f\"{name}:{value}\")\n",
    "        print(\"=======>print attrs \")\n",
    "        return super().__new__(cls, name, bases, attrs)  \n",
    "  \n",
    "    ## 执行具体的初始化操作，如：继承的基类，要添加的属性等\n",
    "    def __init__(cls, name, bases, attrs):  \n",
    "        print(f\"Initializing class {name}\")  \n",
    "        # 在这里可以进行一些初始化操作  \n",
    "        super().__init__(name, bases, attrs)  \n",
    "\n",
    "class MyClass(metaclass=MyMeta):  \n",
    "    MyClassAttr = \"MyClassAttr\"\n",
    "    def __init__(self):  \n",
    "        print(\"Initializing instance of MyClass\")\n",
    "        self.member = \"member\"\n",
    "    def print_member(self):\n",
    "        return (f\"member is {self.member}\")\n",
    "\n",
    "print('MyClass.__class_:', MyClass.__class__)\n",
    "\n",
    "print(\"-------------\")\n",
    "# 创建MyClass的实例  \n",
    "instance1 = MyClass()\n",
    "  \n",
    "# 访问由元类添加的额外属性  \n",
    "print(instance1.additional_attribute)\n",
    "print(instance1.MyClassAttr)\n",
    "print(instance1.print_member())\n",
    "\n",
    "print(\"-------------\")\n",
    "instance2 = MyClass()  \n",
    "  \n",
    "# 访问由元类添加的额外属性  \n",
    "print(instance2.additional_attribute)\n",
    "print(instance2.MyClassAttr)\n",
    "print(instance2.print_member())"
   ]
  },
  {
   "cell_type": "markdown",
   "id": "b14c43b8",
   "metadata": {},
   "source": [
    "从结果可以看到，类MyClass 指定了创建自身的元类为MyMeta， 定义class类(创建元类MyMeta的对象)的时候，先执行MyMeta的__new__方法创建类MyClass(元类对象)，并添加类属性additional_attribute，接着执行MyMeta的__init__方法进行初始化，这个过程只执行一次。\n",
    "接着创建 MyClass对象， instance1， instance2 ，都使用MyClass的__init__函数进行初始化。"
   ]
  },
  {
   "cell_type": "markdown",
   "id": "67889d31",
   "metadata": {
    "ExecuteTime": {
     "end_time": "2024-02-23T02:47:16.419562Z",
     "start_time": "2024-02-23T02:47:16.388054Z"
    }
   },
   "source": [
    "##### __bases__ 与 __call__\n",
    "- __call__是一个特殊方法，也称为“魔术方法”或“双下划线方法”。当一个对象被当作函数调用时，Python会自动调用该对象的__call__方法。这允许我们为任何对象定义调用行为。\n",
    "\n",
    "- __bases__是一个类属性，它表示一个类的所有直接基类的元组。这个属性是只读的，意味着你不能直接修改它。__bases__是Python的内建属性，用于提供关于类继承结构的信息。"
   ]
  },
  {
   "cell_type": "code",
   "execution_count": 71,
   "id": "7a693d5c",
   "metadata": {
    "ExecuteTime": {
     "end_time": "2024-02-23T02:50:25.723604Z",
     "start_time": "2024-02-23T02:50:25.701502Z"
    }
   },
   "outputs": [
    {
     "name": "stdout",
     "output_type": "stream",
     "text": [
      "(<class '__main__.Base1'>, <class '__main__.Base2'>)\n",
      "(<class 'object'>,)\n",
      "(<class 'object'>,)\n"
     ]
    }
   ],
   "source": [
    "# 先看__bases___的例子\n",
    "class Base1:  \n",
    "    pass  \n",
    "  \n",
    "class Base2:  \n",
    "    pass  \n",
    "  \n",
    "class Derived(Base1, Base2):  \n",
    "    pass  \n",
    "  \n",
    "# 查看Derived类的所有直接基类  \n",
    "print(Derived.__bases__)  # 输出: (<class '__main__.Base1'>, <class '__main__.Base2'>)  \n",
    "  \n",
    "# 查看Base1类的所有直接基类  \n",
    "print(Base1.__bases__)  # 输出: (<class 'object'>,)  \n",
    "  \n",
    "# 查看没有继承其他类的类的所有直接基类  \n",
    "class NoBase:  \n",
    "    pass  \n",
    "  \n",
    "print(NoBase.__bases__)  # 输出: (<class 'object'>,)"
   ]
  },
  {
   "cell_type": "markdown",
   "id": "ce947bdf",
   "metadata": {},
   "source": [
    "在这个例子中，Derived类继承自Base1和Base2类，所以Derived.__bases__返回了一个包含Base1和Base2的元组。Base1和Base2类都继承自object类，所以它们的__bases__属性都包含object。而NoBase类没有继承其他类，因此它的__bases__只包含object。\n",
    "\n",
    "需要注意的是，__bases__属性提供的是直接基类的信息，不包括间接基类。"
   ]
  },
  {
   "cell_type": "code",
   "execution_count": 76,
   "id": "d49b3b33",
   "metadata": {
    "ExecuteTime": {
     "end_time": "2024-02-23T02:57:33.377186Z",
     "start_time": "2024-02-23T02:57:33.365281Z"
    }
   },
   "outputs": [
    {
     "name": "stdout",
     "output_type": "stream",
     "text": [
      "Callable object was called with arguments: (1,) {'x': 2}\n"
     ]
    }
   ],
   "source": [
    "# 再看__call__的例子\n",
    "class CallableObject:  \n",
    "    def __call__(self, *args, **kwargs):  \n",
    "        print(\"Callable object was called with arguments:\", args, kwargs)  \n",
    "# 创建一个CallableObject的实例  \n",
    "callable_instance = CallableObject()  \n",
    "  \n",
    "# 使用这个实例像函数一样进行调用  \n",
    "callable_instance(1, x=2)"
   ]
  },
  {
   "cell_type": "markdown",
   "id": "0c41b60a",
   "metadata": {},
   "source": [
    "总结：\n",
    "- 在Python中，__new__是一个静态方法，用于创建并返回实例对象。它通常是由类的元类来调用，并且是在__init__方法之前执行的。__new__方法负责分配内存给新创建的对象，并返回该对象的实例。\n",
    "- \n",
    "- __call__是一个特殊方法，也称为“魔术方法”或“双下划线方法”。当一个对象被当作函数调用时，Python会自动调用该对象的__call__方法。这允许我们为任何对象定义调用行为。\n",
    "- __bases__是一个类属性，它表示一个类的所有直接基类的元组。这个属性是只读的，意味着你不能直接修改它。__bases__是Python的内建属性，用于提供关于类继承结构的信息。\n"
   ]
  }
 ],
 "metadata": {
  "kernelspec": {
   "display_name": "Python 3 (ipykernel)",
   "language": "python",
   "name": "python3"
  },
  "language_info": {
   "codemirror_mode": {
    "name": "ipython",
    "version": 3
   },
   "file_extension": ".py",
   "mimetype": "text/x-python",
   "name": "python",
   "nbconvert_exporter": "python",
   "pygments_lexer": "ipython3",
   "version": "3.10.13"
  },
  "toc": {
   "base_numbering": 1,
   "nav_menu": {},
   "number_sections": true,
   "sideBar": true,
   "skip_h1_title": false,
   "title_cell": "Table of Contents",
   "title_sidebar": "Contents",
   "toc_cell": false,
   "toc_position": {},
   "toc_section_display": true,
   "toc_window_display": false
  },
  "varInspector": {
   "cols": {
    "lenName": 16,
    "lenType": 16,
    "lenVar": 40
   },
   "kernels_config": {
    "python": {
     "delete_cmd_postfix": "",
     "delete_cmd_prefix": "del ",
     "library": "var_list.py",
     "varRefreshCmd": "print(var_dic_list())"
    },
    "r": {
     "delete_cmd_postfix": ") ",
     "delete_cmd_prefix": "rm(",
     "library": "var_list.r",
     "varRefreshCmd": "cat(var_dic_list()) "
    }
   },
   "types_to_exclude": [
    "module",
    "function",
    "builtin_function_or_method",
    "instance",
    "_Feature"
   ],
   "window_display": false
  }
 },
 "nbformat": 4,
 "nbformat_minor": 5
}
