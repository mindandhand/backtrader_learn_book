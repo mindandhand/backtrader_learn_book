{
 "cells": [
  {
   "cell_type": "markdown",
   "id": "59d54fa1",
   "metadata": {},
   "source": [
    "Cerebro类是backtrader的基石，把他翻译为执行引擎，是一切后续工作的基础，功能包括：\n",
    "\n",
    "    - 收集输入如Data Feeds、Stratgegies、Observers、Observers和Writers, 把这一切整合到一起运行；\n",
    "\n",
    "    - 执行回测/实时数据接收/交易\n",
    "\n",
    "    - 返回结果\n",
    "\n",
    "    - 提供绘图功能"
   ]
  },
  {
   "cell_type": "code",
   "execution_count": 20,
   "id": "eaa64c3a",
   "metadata": {
    "ExecuteTime": {
     "end_time": "2024-03-29T11:02:55.871916Z",
     "start_time": "2024-03-29T11:02:55.865614Z"
    }
   },
   "outputs": [],
   "source": [
    "import backtrader as bt\n",
    "import backtrader.indicators as btind\n",
    "import backtrader.feeds as btfeeds\n",
    "import backtrader.analyzers as btanalyzers  \n",
    "import akshare as ak\n",
    "import pandas as pd\n",
    "import datetime"
   ]
  },
  {
   "cell_type": "markdown",
   "id": "1d8934a1",
   "metadata": {},
   "source": [
    "#### 收集输入\n",
    "##### 从创建引擎开始\n",
    "```\n",
    "cerebro = bt.Cerebro(**kwargs)\n",
    "```\n",
    "\\*\\*kwargs是一些控制执行过程的可选参数\n",
    "\n",
    "##### 添加 Data feeds\n",
    "最常见的语句就是是cerebro.adddata(data)，其中data是已经实例化的数据源,如读取Yahoo CSV数据或者使用akshare 获取行情数据"
   ]
  },
  {
   "cell_type": "code",
   "execution_count": 16,
   "id": "16398660",
   "metadata": {
    "ExecuteTime": {
     "end_time": "2024-03-29T11:00:21.287837Z",
     "start_time": "2024-03-29T11:00:21.099220Z"
    }
   },
   "outputs": [
    {
     "name": "stdout",
     "output_type": "stream",
     "text": [
      "akshare data len: 21\n",
      "            日期    开盘    收盘    最高    最低      成交量           成交额\n",
      "19  2023-12-28  9.11  9.45  9.47  9.08  1661592  1.550257e+09\n",
      "20  2023-12-29  9.42  9.39  9.48  9.35   853853  8.031967e+08\n"
     ]
    },
    {
     "data": {
      "text/plain": [
       "<backtrader.feeds.pandafeed.PandasData at 0x7fed0bf2a3e0>"
      ]
     },
     "execution_count": 16,
     "metadata": {},
     "output_type": "execute_result"
    }
   ],
   "source": [
    "# 使用akshare 读取数据\n",
    "data1 = bt.feeds.YahooFinanceCSVData(\n",
    "# 指定数据文件\n",
    "dataname='./GSPC.csv',\n",
    "# 已经从前到后按日期从历史到当前进行排序，无需反转\n",
    "reverse=False,\n",
    "# 指定开始加载的数据日期，包含\n",
    "fromdate=datetime.datetime(2020, 8, 3),\n",
    "# 指定结束加载的数据日期，不包含\n",
    "todate=datetime.datetime(2020, 8, 21)\n",
    ")\n",
    "\n",
    "cerebro1 = bt.Cerebro()\n",
    "# 添加数据到引擎中\n",
    "cerebro1.adddata(data1)\n",
    "\n",
    "\n",
    "# 使用akshare 获取行情数据\n",
    "# 指定日期的前复权数据，只取前7列\n",
    "sz000001_df = ak.stock_zh_a_hist(symbol=\"000001\", \n",
    "    period=\"daily\", \n",
    "    start_date=\"20231201\", \n",
    "    end_date=\"20231231\", \n",
    "    adjust=\"qfq\").iloc[:, :7]\n",
    "print(\"akshare data len:\",len(sz000001_df))\n",
    "print(sz000001_df[-2:])\n",
    "# 处理字段命名，以符合 Backtrader 的要求\n",
    "sz000001_df.columns = [\n",
    "    'date',\n",
    "    'open',\n",
    "    'close',\n",
    "    'high',\n",
    "    'low',\n",
    "    'volume',\n",
    "    'amt',\n",
    "]\n",
    "# 把 date 作为日期索引，以符合 Backtrader 的要求\n",
    "sz000001_df.index = pd.to_datetime(sz000001_df['date'])\n",
    "\n",
    "data2 = bt.feeds.PandasData(dataname=sz000001_df)  # 加载数据\n",
    "cerebro2 = bt.Cerebro()\n",
    "# 添加数据到引擎中\n",
    "cerebro2.adddata(data2)"
   ]
  },
  {
   "cell_type": "markdown",
   "id": "00c79e67",
   "metadata": {
    "ExecuteTime": {
     "end_time": "2024-03-18T23:40:58.819138Z",
     "start_time": "2024-03-18T23:40:58.813969Z"
    }
   },
   "source": [
    "执行引擎可以接受任意数量的数据源，包括混合常规数据与重采样和/或重播数据(概念及示例在DataFeeds中进行描述)。有些组合可能是没有意义的，并且为了能够将数据组合起来，有一个限制条件需要满足：时间对齐(这个概念后续专节描述)。\n",
    "\n",
    "\n",
    "##### 添加 Strategies\n",
    "\n",
    "与已经是类实例的Data Feeds不同，cerebro 接受 Strategies 类及要传递给策略的参数。在优化场景中，Strategies会被多次实例化并传递不同的参数。\n",
    "\n",
    "即使不运行优化，也可以只用于传递参数："
   ]
  },
  {
   "cell_type": "code",
   "execution_count": 17,
   "id": "c426c8e6",
   "metadata": {
    "ExecuteTime": {
     "end_time": "2024-03-29T11:00:25.321564Z",
     "start_time": "2024-03-29T11:00:25.281772Z"
    }
   },
   "outputs": [
    {
     "name": "stdout",
     "output_type": "stream",
     "text": [
      "self.params :10\n",
      "self.params :15\n"
     ]
    },
    {
     "data": {
      "text/plain": [
       "[<__main__.MyStrategy3 at 0x7fed0bf2b3a0>]"
      ]
     },
     "execution_count": 17,
     "metadata": {},
     "output_type": "execute_result"
    }
   ],
   "source": [
    "# 直接传递策略参数 period\n",
    "class MyStrategy3(bt.Strategy):\n",
    "    params = (\n",
    "        ('shortMaPeriod', 5),\n",
    "        ('longMaPeriod', 15),\n",
    "    )\n",
    "    # 定义均线周期为15\n",
    "    def __init__(self):\n",
    "        # 计算 移动平均线\n",
    "        print(f\"self.params :{self.p.shortMaPeriod}\")\n",
    "        print(f\"self.params :{self.p.longMaPeriod}\")\n",
    "        \n",
    "cerebro3 = bt.Cerebro()\n",
    "cerebro3.adddata(data2)  # 将数据传入回测系统\n",
    "# 添加策略到引擎\n",
    "cerebro3.addstrategy(MyStrategy3,shortMaPeriod = 10,longMaPeriod=15)\n",
    "cerebro3.run()"
   ]
  },
  {
   "cell_type": "code",
   "execution_count": 39,
   "id": "a305555f",
   "metadata": {
    "ExecuteTime": {
     "end_time": "2024-03-29T11:15:59.373704Z",
     "start_time": "2024-03-29T11:15:59.363867Z"
    }
   },
   "outputs": [
    {
     "name": "stdout",
     "output_type": "stream",
     "text": [
      "(('shortMaPeriod', 15),)\n"
     ]
    }
   ],
   "source": [
    "#  优化策略参数\n",
    "class MyStrategy4(bt.Strategy):  \n",
    "    params = (  \n",
    "        ('shortMaPeriod', 15),  # 默认值  \n",
    "    )  \n",
    "    print(params)\n",
    "      \n",
    "    # 策略的其他部分...  \n",
    "      \n",
    "    def next(self):  \n",
    "        # 使用params.myparam1  \n",
    "        print(p.shortMaPeriod)\n",
    "        pass  \n",
    "    \n",
    "# 创建Cerebro引擎  \n",
    "cerebro4 = bt.Cerebro()  \n",
    "# 添加数据（这里省略了添加数据的代码）  \n",
    "# ...  \n",
    "  \n",
    "# 添加策略和优化参数  \n",
    "cerebro4.optstrategy(MyStrategy4, shortMaPeriod=range(10, 20))  \n",
    "\n",
    "  \n",
    "# 运行回测和优化  \n",
    "results = cerebro4.run()  "
   ]
  },
  {
   "cell_type": "markdown",
   "id": "ee851d6d",
   "metadata": {
    "ExecuteTime": {
     "end_time": "2024-03-29T11:10:40.398774Z",
     "start_time": "2024-03-29T11:10:40.387057Z"
    }
   },
   "source": [
    "当调用cerebro.optstrategy(MyStrategy, shortMaPeriod=range(10, 20))时，你正在告诉Cerebro优化MyStrategy策略中的shortMaPeriod参数。shortMaPeriod的参数值将从10到19（包括10但不包括20）进行遍历，对于每个值，都会运行一次策略回测。\n",
    "\n",
    "这里的range(10, 20)是一个Python的内置函数，它生成一个从10开始到19结束的整数序列。"
   ]
  },
  {
   "cell_type": "markdown",
   "id": "eb7a0d24",
   "metadata": {
    "ExecuteTime": {
     "end_time": "2024-03-19T00:38:36.260226Z",
     "start_time": "2024-03-19T00:38:36.236701Z"
    }
   },
   "source": [
    "##### 添加其他输入\n",
    "这些内容都会在指定章节展开，这里只是说明，例子中可以暂时不使用。\n",
    "\n",
    "    - addwriter 日志\n",
    "\n",
    "    - addanalyzer 分析器\n",
    "\n",
    "    - addobserver (or addobservermulti) 观察者\n",
    "\n",
    "##### 自定义broker\n",
    "如果有自己实现broker，则可以覆盖默认设置，通过如下方式：\n",
    "```\n",
    "broker = MyBroker()\n",
    "cerebro.broker = broker  \n",
    "```\n",
    "\n",
    "##### 接收通知\n",
    "\n",
    "如果 datafeeds 或broker发送通知，它们将通过Cerebro的notify_store方法接收。处理这些通知有三种方式：\n",
    "\n",
    "\n",
    "- 通过addnotifycallback(callback)调用向Cerebro实例添加一个回调。回调函数的原型为：\n",
    "    ```\n",
    "    callback(msg, *args, **kwargs)\n",
    "    ```\n",
    "    msg消息体, *args和\\*\\*kwargs由实现定义，但通常应该期望它们是可打印的，以便接收和测试。\n",
    "    \n",
    "- 在Strategy子类中重写notify_store方法。\n",
    "    函数原型：notify_store(self, msg, *args, **kwargs)\n",
    "    \n",
    "\n",
    "- 创建Cerebro的子类，并重写notify_store，参数与上面相同。\n",
    "\n",
    "\n",
    "#################################\n",
    "\n",
    "####但是datafeeds 如何发送通知？###\n",
    "\n",
    "#################################"
   ]
  },
  {
   "cell_type": "markdown",
   "id": "cf6ea889",
   "metadata": {},
   "source": [
    "#### 执行回测\n",
    "\n",
    "执行回测最简单的命令是：\n",
    "```\n",
    "result = cerebro.run(**kwargs)\n",
    "```\n",
    "kwargs是要传递给引擎的参数。\n",
    "\n",
    "Cerebro（除非另有指定）会自动实例化三个Observer：\n",
    "\n",
    "- Broker observer，用于跟踪现金和价值（投资组合）\n",
    "\n",
    "- Trades observer，用于显示每笔交易的成效如何\n",
    "\n",
    "- Buy/Sell observer，用于记录执行操作的时间\n",
    "\n",
    "将stdstats设置为False即可禁用它们。"
   ]
  },
  {
   "cell_type": "markdown",
   "id": "2a8229dc",
   "metadata": {},
   "source": [
    "#### 返回结果\n",
    "\n",
    "Cerebro在回测过程中会返回其创建的策略实例。这使得能够分析这些策略的表现，因为策略中的所有元素都是可以访问的。\n",
    "\n",
    "```\n",
    "result = cerebro.run(**kwargs)\n",
    "```\n",
    "run 方法返回的 result 的格式会根据是否使用了优化（即是否通过 optstrategy 添加了策略）而有所不同：\n",
    "\n",
    "- 仅通过 addstrategy 添加策略：result 将是一个列表，包含了回测期间运行的所有策略实例。\n",
    "\n",
    "- 通过 optstrategy 添加了1个或多个策略：result 将是一个列表的列表（即二维列表）。每个内部列表都包含了每次优化运行后的策略。在优化过程中，Cerebro会多次运行回测，每次尝试不同的参数组合。每次优化运行的结果（即策略实例列表）都会被保存在 result 的一个内部列表中。\n",
    "\n",
    "这样，通过检查 result，可以了解每个策略的表现，以及（如果使用优化）不同参数组合下策略的表现。这对于分析和比较不同策略以及它们在不同参数下的表现很有用。"
   ]
  },
  {
   "cell_type": "markdown",
   "id": "309b6c61",
   "metadata": {},
   "source": [
    "#### 绘图\n",
    "如果安装了 matplotlib，可以通过下面的命令进行绘图。\n",
    "\n",
    "```\n",
    "cerebro.plot()\n",
    "```"
   ]
  },
  {
   "cell_type": "markdown",
   "id": "a3f94f88",
   "metadata": {
    "ExecuteTime": {
     "end_time": "2024-03-29T11:22:53.301092Z",
     "start_time": "2024-03-29T11:22:53.296381Z"
    }
   },
   "source": [
    "#### 回测逻辑\n",
    "  "
   ]
  },
  {
   "cell_type": "markdown",
   "id": "8fee6868",
   "metadata": {},
   "source": [
    "##### 发送所有的通知\n",
    "##### 请求data feeds 提供下一组tick/K线数据\n",
    "Data feeds 尝试根据下一个时间点预取数据，如果在新的时间段内没有交易的数据就提供当前周期的数据，如果有新数据可用，就提供新周期的数据。\n",
    "##### 通过notify_order回调，通知策略 订单的状态/成交/资金信息。\n",
    "#####  通知broker 接收新订单，用新数据模拟成交待撮合订单\n",
    "##### 调用策略的next方法以让策略进行逻辑调用\n",
    "这取决于数据指标的完成度，可能是prenext或nextstart，在策略/指标的最小周期要求满足之前，相关概念见最小周期部分。\n",
    "\n",
    "在内部，策略还将触发observers, indicators, analyzers和其他活动元素\n",
    "##### 写入器写入相关数据\n"
   ]
  },
  {
   "cell_type": "markdown",
   "id": "0005081b",
   "metadata": {},
   "source": [
    "在上述步骤1中，当Data feeds 提供新的K线时，K线已经收盘,这意味着数据已经发生,如果使用此时的收盘价则属于用了未来数据。因此，在步骤4中由策略发出的订单无法使用步骤1中的数据来执行。这意味着订单的执行将遵循x + 1的概念。其中x是订单执行的K线时刻，而x + 1则是下一个K线时刻，即订单可能执行的最早时间点。"
   ]
  },
  {
   "cell_type": "markdown",
   "id": "c487fbe2",
   "metadata": {},
   "source": [
    "Ref：\n",
    "https://www.backtrader.com/docu/cerebro/#addtztz\n",
    "    "
   ]
  },
  {
   "cell_type": "code",
   "execution_count": null,
   "id": "1111f230",
   "metadata": {},
   "outputs": [],
   "source": []
  }
 ],
 "metadata": {
  "kernelspec": {
   "display_name": "Python 3 (ipykernel)",
   "language": "python",
   "name": "python3"
  },
  "language_info": {
   "codemirror_mode": {
    "name": "ipython",
    "version": 3
   },
   "file_extension": ".py",
   "mimetype": "text/x-python",
   "name": "python",
   "nbconvert_exporter": "python",
   "pygments_lexer": "ipython3",
   "version": "3.10.13"
  },
  "toc": {
   "base_numbering": 1,
   "nav_menu": {},
   "number_sections": true,
   "sideBar": true,
   "skip_h1_title": false,
   "title_cell": "Table of Contents",
   "title_sidebar": "Contents",
   "toc_cell": false,
   "toc_position": {},
   "toc_section_display": true,
   "toc_window_display": false
  },
  "varInspector": {
   "cols": {
    "lenName": 16,
    "lenType": 16,
    "lenVar": 40
   },
   "kernels_config": {
    "python": {
     "delete_cmd_postfix": "",
     "delete_cmd_prefix": "del ",
     "library": "var_list.py",
     "varRefreshCmd": "print(var_dic_list())"
    },
    "r": {
     "delete_cmd_postfix": ") ",
     "delete_cmd_prefix": "rm(",
     "library": "var_list.r",
     "varRefreshCmd": "cat(var_dic_list()) "
    }
   },
   "types_to_exclude": [
    "module",
    "function",
    "builtin_function_or_method",
    "instance",
    "_Feature"
   ],
   "window_display": false
  }
 },
 "nbformat": 4,
 "nbformat_minor": 5
}
