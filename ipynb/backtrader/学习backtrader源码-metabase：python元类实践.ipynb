{
 "cells": [
  {
   "cell_type": "markdown",
   "id": "f82411b5",
   "metadata": {},
   "source": [
    "要学习backtrader源码，首先要具备的基础就是元类知识，在python-元类基础已经对基本知识进行了说明。metabase 文件是backtrader的基础，逐一看每个函数，进行用例测试。"
   ]
  },
  {
   "cell_type": "markdown",
   "id": "e0b56c9a",
   "metadata": {},
   "source": [
    "##### 1  findbases函数"
   ]
  },
  {
   "cell_type": "code",
   "execution_count": 4,
   "id": "46820108",
   "metadata": {
    "ExecuteTime": {
     "end_time": "2024-02-23T09:41:49.146890Z",
     "start_time": "2024-02-23T09:41:49.144006Z"
    }
   },
   "outputs": [],
   "source": [
    "# findbases函数：递归找给定类到某个基类之间的全部类\n",
    "def findbases(kls, topclass):\n",
    "    retval = list()\n",
    "    for base in kls.__bases__:\n",
    "       # print(base)\n",
    "        if issubclass(base, topclass):\n",
    "            retval.extend(findbases(base, topclass))\n",
    "            retval.append(base)\n",
    "\n",
    "    return retval"
   ]
  },
  {
   "cell_type": "markdown",
   "id": "d92a20aa",
   "metadata": {},
   "source": [
    "知识点与用例：\n",
    "\n",
    "issubclass() 是python内置函数，它用于检查一个类是否继承自另一个类；\n",
    "__bases__ 是一个类的特殊属性，它包含了该类的所有直接父类（或称为基类）；"
   ]
  },
  {
   "cell_type": "code",
   "execution_count": 5,
   "id": "6e53f044",
   "metadata": {},
   "outputs": [
    {
     "name": "stdout",
     "output_type": "stream",
     "text": [
      "True\n",
      "True\n",
      "True\n",
      "True\n",
      "False\n",
      "False\n",
      "False\n",
      "(<class '__main__.Parent1'>, <class '__main__.Parent2'>)\n",
      "[<class '__main__.Grandparent'>, <class '__main__.Parent1'>]\n",
      "[<class 'object'>, <class '__main__.Grandparent'>, <class '__main__.Parent1'>, <class 'object'>, <class '__main__.Parent2'>]\n"
     ]
    }
   ],
   "source": [
    "# 1.1 findbases的例子说明\n",
    "class Grandparent:  \n",
    "    pass  \n",
    "  \n",
    "class Parent1(Grandparent):  \n",
    "    pass  \n",
    "  \n",
    "class Parent2:  \n",
    "    pass  \n",
    "  \n",
    "class Child(Parent1, Parent2):  \n",
    "    pass  \n",
    "  \n",
    "# 检查 Child 是否是 Grandparent 的子类  \n",
    "print(issubclass(Child, Grandparent))  # 输出: True  \n",
    "  \n",
    "# 检查 Child 是否是 Parent1 的子类  \n",
    "print(issubclass(Child, Parent1))  # 输出: True  \n",
    "  \n",
    "# 检查 Child 是否是 Parent2 的子类  \n",
    "print(issubclass(Child, Parent2))  # 输出: True  \n",
    "  \n",
    "# 检查 Child 是否是其自身的子类  \n",
    "print(issubclass(Child, Child))  # 输出: True  \n",
    "  \n",
    "# 检查 Parent1 是否是 Child 的子类（不是）  \n",
    "print(issubclass(Parent1, Child))  # 输出: False  \n",
    "  \n",
    "# 检查 Grandparent 是否是 Parent1 的子类（不是）  \n",
    "print(issubclass(Grandparent, Parent1))  # 输出: False\n",
    "  \n",
    "# 检查 Parent2 是否是 Grandparent 的子类（不是）  \n",
    "print(issubclass(Parent2, Grandparent))  # 输出: False\n",
    "\n",
    "# 打印Child的基类\n",
    "print(Child.__bases__)  # 输出 Parent1，Parent2\n",
    "\n",
    "# 找Child的全部父类\n",
    "print(findbases(Child, Grandparent)) # 输出Grandparent，Parent1\n",
    "# 找Child和type之间全部类\n",
    "print(findbases(Child, object)) # 输出object、Grandparent'、Parent1'、object、Parent2"
   ]
  },
  {
   "cell_type": "markdown",
   "id": "a5bb9fb1",
   "metadata": {},
   "source": [
    "##### 2 findowner 函数"
   ]
  },
  {
   "cell_type": "code",
   "execution_count": 6,
   "id": "c81dbeb8",
   "metadata": {},
   "outputs": [],
   "source": [
    "# 遍历堆栈，寻找不等于owned 和 skip 的 cls的对象\n",
    "# \n",
    "\n",
    "def findowner(owned, cls, startlevel=2, skip=None):\n",
    "    # skip this frame and the caller's -> start at 2\n",
    "    for framelevel in itertools.count(startlevel):\n",
    "        try:\n",
    "            frame = sys._getframe(framelevel)\n",
    "        except ValueError:\n",
    "            # Frame depth exceeded ... no owner ... break away\n",
    "            break\n",
    "\n",
    "        # 'self' in regular code\n",
    "        self_ = frame.f_locals.get('self', None)\n",
    "        if skip is not self_:\n",
    "            if self_ is not owned and isinstance(self_, cls):\n",
    "                return self_\n",
    "\n",
    "        # '_obj' in metaclasses\n",
    "        obj_ = frame.f_locals.get('_obj', None)\n",
    "        if skip is not obj_:\n",
    "            if obj_ is not owned and isinstance(obj_, cls):\n",
    "                return obj_\n",
    "\n",
    "    return None"
   ]
  },
  {
   "cell_type": "markdown",
   "id": "9a2ac093",
   "metadata": {},
   "source": [
    "知识点与用例测试："
   ]
  },
  {
   "cell_type": "code",
   "execution_count": 9,
   "id": "5dd9f949",
   "metadata": {},
   "outputs": [
    {
     "name": "stdout",
     "output_type": "stream",
     "text": [
      "2\n",
      "3\n",
      "4\n"
     ]
    }
   ],
   "source": [
    "# 2.1 itertools.count 返回一个无限迭代器，从给定的起始值开始，每次递增一个固定的步长\n",
    "# itertools.count(start=0, step=1)\n",
    "# - start：计数器的起始值，默认为 0。\n",
    "# - step：每次迭代的步长，默认为 1\n",
    "import itertools  \n",
    "for framelevel in itertools.count(2):\n",
    "    print(framelevel)\n",
    "    if  framelevel > 3 :\n",
    "        break"
   ]
  },
  {
   "cell_type": "code",
   "execution_count": 13,
   "id": "21f392a9",
   "metadata": {},
   "outputs": [
    {
     "name": "stdout",
     "output_type": "stream",
     "text": [
      "Outer function called\n",
      "Middle function called\n",
      "Inner function called\n",
      "Second frame f_locals: {'outer_param1': 'outer'}\n",
      "Second frame function name: outer_function\n",
      "Second frame line number: 12\n",
      "First frame f_locals: {'middle_param1': 'middle'}\n",
      "First frame function name: middle_function\n",
      "First frame line number: 17\n"
     ]
    }
   ],
   "source": [
    "# 2.2 sys._getframe() 用于获取当前调用栈中的帧对象。帧对象代表了执行上下文，包含了函数参数、局部变量等信息。\n",
    "# 接受一个可选的参数 depth，表示要获取的帧的深度。\n",
    "# 默认情况下，depth 为 0，表示获取当前帧。如果 depth 为正数，那么函数将返回调用栈中 depth 深度处的帧对象。\n",
    "# 如果 depth 为负数，那么函数将返回调用栈中从当前帧开始往上数 abs(depth) 帧处的帧对象。\n",
    "\n",
    "# f_locals 获取当前帧（或指定深度的帧）局部变量的方法。f_locals 是一个字典，它包含了在该帧中定义的局部变量。\n",
    "\n",
    "\n",
    "def outer_function():  \n",
    "    outer_param1 = \"outer\"\n",
    "    print(\"Outer function called\")  \n",
    "    middle_function()  \n",
    "\n",
    "def middle_function():\n",
    "    middle_param1= \"middle\"\n",
    "    print(\"Middle function called\")  \n",
    "    inner_function()  \n",
    "    \n",
    "def inner_function():  \n",
    "    inner_param1= \"inner\"\n",
    "    print(\"Inner function called\")  \n",
    "    frame = sys._getframe(2)  # 获取调用链中第2层的帧对象  \n",
    "    print(\"Second frame f_locals:\",frame.f_locals) # out:Second frame f_locals: {'outer_param1': 'outer'}\n",
    "    print(\"Second frame function name:\", frame.f_code.co_name)  # out:Second frame function name: outer_function\n",
    "    print(\"Second frame line number:\", frame.f_lineno)  # out: Second frame line number: 12\n",
    "    print(\"-----------------------------------------\")\n",
    "    frame = sys._getframe(1)  # 获取调用链中第2层的帧对象  \n",
    "    print(\"First frame f_locals:\",frame.f_locals) # out: First frame f_locals: {'middle_param1': 'middle'}\n",
    "    print(\"First frame function name:\", frame.f_code.co_name)  # out: First frame function name: middle_function\n",
    "    print(\"First frame line number:\", frame.f_lineno) # out: First frame line number: 17\n",
    "\n",
    "# 调用最外层的函\n",
    "outer_function()"
   ]
  },
  {
   "cell_type": "code",
   "execution_count": null,
   "id": "bfc0a350",
   "metadata": {},
   "outputs": [],
   "source": [
    "# 3.3 MetaBase,这个是类的基本声明"
   ]
  },
  {
   "cell_type": "code",
   "execution_count": 15,
   "id": "30a136f4",
   "metadata": {},
   "outputs": [],
   "source": [
    "# 定义MetaBase类\n",
    "class MetaBase(type):\n",
    "    # donew 执行之前调用的函数\n",
    "    def doprenew(cls, *args, **kwargs):\n",
    "        return cls, args, kwargs\n",
    "\n",
    "    def donew(cls, *args, **kwargs):\n",
    "        _obj = cls.__new__(cls, *args, **kwargs)\n",
    "        return _obj, args, kwargs\n",
    "\n",
    "    # doinit 之前调用的函数\n",
    "    def dopreinit(cls, _obj, *args, **kwargs):\n",
    "        return _obj, args, kwargs\n",
    "\n",
    "    def doinit(cls, _obj, *args, **kwargs):\n",
    "        _obj.__init__(*args, **kwargs)\n",
    "        return _obj, args, kwargs\n",
    "\n",
    "    # doinit 执行后调用的函数\n",
    "    def dopostinit(cls, _obj, *args, **kwargs):\n",
    "        return _obj, args, kwargs\n",
    "\n",
    "    # 在 Python 中，__call__ 是一个特殊的方法，它允许一个对象像函数那样被调用。\n",
    "    # 如果一个类定义了 __call__ 方法，那么它的实例就可以像函数那样被调用\n",
    "    def __call__(cls, *args, **kwargs):\n",
    "        cls, args, kwargs = cls.doprenew(*args, **kwargs)\n",
    "        _obj, args, kwargs = cls.donew(*args, **kwargs)\n",
    "        _obj, args, kwargs = cls.dopreinit(_obj, *args, **kwargs)\n",
    "        _obj, args, kwargs = cls.doinit(_obj, *args, **kwargs)\n",
    "        _obj, args, kwargs = cls.dopostinit(_obj, *args, **kwargs)\n",
    "        return _obj"
   ]
  },
  {
   "cell_type": "code",
   "execution_count": null,
   "id": "9747a11b",
   "metadata": {},
   "outputs": [],
   "source": []
  }
 ],
 "metadata": {
  "kernelspec": {
   "display_name": "Python 3 (ipykernel)",
   "language": "python",
   "name": "python3"
  },
  "language_info": {
   "codemirror_mode": {
    "name": "ipython",
    "version": 3
   },
   "file_extension": ".py",
   "mimetype": "text/x-python",
   "name": "python",
   "nbconvert_exporter": "python",
   "pygments_lexer": "ipython3",
   "version": "3.10.9"
  },
  "toc": {
   "base_numbering": 1,
   "nav_menu": {},
   "number_sections": true,
   "sideBar": true,
   "skip_h1_title": false,
   "title_cell": "Table of Contents",
   "title_sidebar": "Contents",
   "toc_cell": false,
   "toc_position": {},
   "toc_section_display": true,
   "toc_window_display": false
  },
  "varInspector": {
   "cols": {
    "lenName": 16,
    "lenType": 16,
    "lenVar": 40
   },
   "kernels_config": {
    "python": {
     "delete_cmd_postfix": "",
     "delete_cmd_prefix": "del ",
     "library": "var_list.py",
     "varRefreshCmd": "print(var_dic_list())"
    },
    "r": {
     "delete_cmd_postfix": ") ",
     "delete_cmd_prefix": "rm(",
     "library": "var_list.r",
     "varRefreshCmd": "cat(var_dic_list()) "
    }
   },
   "types_to_exclude": [
    "module",
    "function",
    "builtin_function_or_method",
    "instance",
    "_Feature"
   ],
   "window_display": false
  }
 },
 "nbformat": 4,
 "nbformat_minor": 5
}
