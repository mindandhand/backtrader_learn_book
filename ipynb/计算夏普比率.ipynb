{
 "cells": [
  {
   "cell_type": "code",
   "execution_count": 8,
   "id": "fcc992c7",
   "metadata": {},
   "outputs": [],
   "source": [
    "from __future__ import print_function\n",
    "import datetime\n",
    "import numpy as np\n",
    "import pandas as pd\n",
    "import akshare as ak\n",
    "import pandas_datareader.data as web\n",
    "# 计算年化收益率\n",
    "def annualised_sharpe(returns, N=252):\n",
    "    return np.sqrt(N) * returns.mean() / returns.std()"
   ]
  },
  {
   "cell_type": "code",
   "execution_count": 21,
   "id": "0022cfea",
   "metadata": {},
   "outputs": [
    {
     "data": {
      "text/plain": [
       "-0.7304499901503129"
      ]
     },
     "execution_count": 21,
     "metadata": {},
     "output_type": "execute_result"
    }
   ],
   "source": [
    "def equity_sharpe(symbol, startdate, enddata):\n",
    "    df = ak.stock_zh_a_hist(symbol=symbol, period=\"daily\", start_date=startdate, end_date=enddata, adjust=\"\")\n",
    "\n",
    "    # Use the percentage change method to easily calculate daily returns\n",
    "    df['daily_ret'] = df['收盘'].pct_change()\n",
    "    # Assume an average annual risk-free rate over the period of 3%\n",
    "    df['excess_daily_ret'] = df['daily_ret'] - 0.03/252\n",
    "    # Return the annualised Sharpe ratio based on the excess daily returns\n",
    "    return annualised_sharpe(df['excess_daily_ret'])\n",
    "equity_sharpe('600000','20230101','20240101')"
   ]
  },
  {
   "cell_type": "markdown",
   "id": "5cdc41bf",
   "metadata": {},
   "source": [
    "这里可以计算出相对%4收益的夏普比，值是负数，小于假设的无风险利率，说明买这个股票还不如存定期3个点。"
   ]
  },
  {
   "cell_type": "code",
   "execution_count": 22,
   "id": "3d9dafd8",
   "metadata": {},
   "outputs": [
    {
     "data": {
      "text/plain": [
       "-0.3123001022491444"
      ]
     },
     "execution_count": 22,
     "metadata": {},
     "output_type": "execute_result"
    }
   ],
   "source": [
    "def market_neutral_sharpe(symbol, index_benchmark,startdate, enddata):\n",
    "    df_symbol = ak.stock_zh_a_hist(symbol=symbol, period=\"daily\", start_date=startdate, end_date=enddata, adjust=\"\")\n",
    "    df_index = ak.index_zh_a_hist(symbol=index_benchmark, period=\"daily\", start_date=startdate, end_date=enddata)\n",
    "    \n",
    "    # Calculate the percentage returns on each of the time series\n",
    "    df_symbol['daily_ret'] = df_symbol['收盘'].pct_change()\n",
    "    df_symbol.set_index(pd.to_datetime(df_symbol[\"日期\"],format='%Y-%m-%d'),inplace=True)\n",
    "    df_index['daily_ret'] = df_index['收盘'].pct_change()\n",
    "    df_index.set_index(pd.to_datetime(df_index[\"日期\"],format='%Y-%m-%d'),inplace=True)\n",
    "    # \n",
    "    strat = pd.DataFrame(index=df_index.index)\n",
    "    strat['net_ret'] = (df_symbol['daily_ret'] - df_index['daily_ret'])\n",
    "    # Return the annualised Sharpe ratio for this strategy\n",
    "    return annualised_sharpe(strat['net_ret'])\n",
    "\n",
    "market_neutral_sharpe('600000','000001','20230101','20240101')"
   ]
  },
  {
   "cell_type": "markdown",
   "id": "850b3861",
   "metadata": {},
   "source": [
    "相对于和固定三个点相比，把上证指数作为基准，sharp 反而值大些，说明上证指数和固定三个点的定期相比，也不值得考虑，起码从这段历史数据上看是这样。"
   ]
  }
 ],
 "metadata": {
  "kernelspec": {
   "display_name": "Python 3 (ipykernel)",
   "language": "python",
   "name": "python3"
  },
  "language_info": {
   "codemirror_mode": {
    "name": "ipython",
    "version": 3
   },
   "file_extension": ".py",
   "mimetype": "text/x-python",
   "name": "python",
   "nbconvert_exporter": "python",
   "pygments_lexer": "ipython3",
   "version": "3.10.9"
  }
 },
 "nbformat": 4,
 "nbformat_minor": 5
}
