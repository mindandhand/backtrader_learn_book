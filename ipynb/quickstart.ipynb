{
 "cells": [
  {
   "cell_type": "markdown",
   "metadata": {},
   "source": [
    "# 1.1 快速运行几个demo \n",
    "---\n",
    "#### 使用backtrader进行回测分析包含以下几个步骤：\n",
    "    - 创建策略\n",
    "        - 确定要调优的参数：可以分析确定是否有效的，或者通过回测要确定最优值的\n",
    "        - 初始化策略中用到的指标数据：通过引擎传入的数据实现\n",
    "        - 判断是否达到了买卖点\n",
    "    - 执行引擎\n",
    "        - 初始化引擎\n",
    "        - 注入创建的策略\n",
    "        - 加载和注入数据Feed\n",
    "        - 运行引擎\n",
    "        - 进行可视化分析\n"
   ]
  },
  {
   "cell_type": "markdown",
   "metadata": {},
   "source": [
    "#### 1.1.1 先运行引擎看看\n",
    "第一步是让程序跑起来，而不是考虑策略，因此首先初始化引擎运行看看。"
   ]
  },
  {
   "cell_type": "code",
   "execution_count": 6,
   "metadata": {},
   "outputs": [
    {
     "name": "stdout",
     "output_type": "stream",
     "text": [
      "Starting Portfolio Value: 10000.00\n",
      "Final Portfolio Value: 10000.00\n"
     ]
    }
   ],
   "source": [
    "# 引用backtrader\n",
    "import backtrader as bt\n",
    "if __name__ == '__main__':\n",
    "    # 1. 初始化引擎\n",
    "    cerebro = bt.Cerebro()\n",
    "    # 2. 打印策略执行前的资金\n",
    "    print('Starting Portfolio Value: %.2f' % cerebro.broker.getvalue())\n",
    "    # 3. 执行引擎\n",
    "    cerebro.run()\n",
    "    # 4.打印策略执行后的资金\n",
    "    print('Final Portfolio Value: %.2f' % cerebro.broker.getvalue())"
   ]
  },
  {
   "cell_type": "markdown",
   "metadata": {},
   "source": [
    "可以看到, 引擎默认初始资金为10000.00；下一步尝试自定义初始资金为1000000.0。"
   ]
  },
  {
   "cell_type": "code",
   "execution_count": 2,
   "metadata": {},
   "outputs": [
    {
     "name": "stdout",
     "output_type": "stream",
     "text": [
      "Starting Portfolio Value: 1000000.00\n",
      "Final Portfolio Value: 1000000.00\n"
     ]
    }
   ],
   "source": [
    "import backtrader as bt\n",
    "if __name__ == '__main__':\n",
    "    # 1. 初始化引擎\n",
    "    cerebro = bt.Cerebro()\n",
    "    # 2.设置初始化资金为100万\n",
    "    cerebro.broker.setcash(1000000.0)\n",
    "    # 3. 打印策略执行前的资金\n",
    "    print('Starting Portfolio Value: %.2f' % cerebro.broker.getvalue())\n",
    "    # 4. 执行引擎\n",
    "    cerebro.run()\n",
    "    # 5.打印策略执行后的资金\n",
    "    print('Final Portfolio Value: %.2f' % cerebro.broker.getvalue())"
   ]
  },
  {
   "cell_type": "markdown",
   "metadata": {},
   "source": [
    "初始资金被成功修改为1000000.00。"
   ]
  },
  {
   "cell_type": "markdown",
   "metadata": {},
   "source": [
    "##### 1.1.2 尝试添加数据\n",
    "尝试执行完引擎后，下一步要做的就是尝试添加数据，和上一节相比，输出不会有任何变化，这是因为仅加载了数据，但并未使用它。"
   ]
  },
  {
   "cell_type": "code",
   "execution_count": 5,
   "metadata": {},
   "outputs": [
    {
     "name": "stdout",
     "output_type": "stream",
     "text": [
      "Starting Portfolio Value: 1000000.00\n",
      "Final Portfolio Value: 1000000.00\n"
     ]
    }
   ],
   "source": [
    "# 引用backtrader\n",
    "import backtrader as bt\n",
    "import datetime\n",
    "if __name__ == '__main__':\n",
    "    # 1. 初始化引擎\n",
    "    cerebro = bt.Cerebro()\n",
    "    # 2.  引用一个数据源, 读取雅虎数据格式的本地文件\n",
    "    # 这里暂时不用关心数据的具体格式，自定义数据加载及其它源加载，后续章节会讲到\n",
    "    data = bt.feeds.YahooFinanceCSVData(\n",
    "    dataname='./GSPC.csv',\n",
    "    fromdate=datetime.datetime(2019, 8, 20),\n",
    "    todate=datetime.datetime(2020, 8, 20),\n",
    "    reverse=False)\n",
    "\n",
    "    # 添加数据到引擎中\n",
    "    cerebro.adddata(data)\n",
    "    # 3.设置初始化资金为100万\n",
    "    cerebro.broker.setcash(1000000.0)\n",
    "    # 4. 打印策略执行前的资金\n",
    "    print('Starting Portfolio Value: %.2f' % cerebro.broker.getvalue())\n",
    "    # 5. 执行引擎\n",
    "    cerebro.run()\n",
    "    # 6.打印策略执行后的资金\n",
    "    print('Final Portfolio Value: %.2f' % cerebro.broker.getvalue())\n"
   ]
  },
  {
   "cell_type": "markdown",
   "metadata": {},
   "source": [
    "#### 1.1.3 运行第一个策略\n",
    "设置了资金和行情数据后，就可以创建策略，训练模型。策略必须继承bt策略类，接下来执行一个例子，如果价格下降到2500点以下，就认为价格到达了低点，记录收盘的价格。"
   ]
  },
  {
   "cell_type": "code",
   "execution_count": 13,
   "metadata": {},
   "outputs": [
    {
     "name": "stdout",
     "output_type": "stream",
     "text": [
      "Starting Portfolio Value: 1000000.00\n",
      "2020-03-12, Close, 2480.64\n",
      "2020-03-16, Close, 2386.13\n",
      "2020-03-18, Close, 2398.10\n",
      "2020-03-19, Close, 2409.39\n",
      "2020-03-20, Close, 2304.92\n",
      "2020-03-23, Close, 2237.40\n",
      "2020-03-24, Close, 2447.33\n",
      "2020-03-25, Close, 2475.56\n",
      "2020-04-01, Close, 2470.50\n",
      "2020-04-03, Close, 2488.65\n",
      "Final Portfolio Value: 1000000.00\n"
     ]
    }
   ],
   "source": [
    "# 3.1 创建的策略必须继承bt策略基类\n",
    "class TestStrategy(bt.Strategy):\n",
    "    # 3.2 数据和策略添加到同一引擎后，在策略中可通过datas访问数据，这里仅获取了传送数据的收盘价信息\n",
    "    def __init__(self):\n",
    "        self.dataclose = self.datas[0].close\n",
    "\n",
    "    # 3.3 定义本策略的日志文件\n",
    "    def log(self, txt, dt=None):\n",
    "        dt = dt or self.datas[0].datetime.date(0)\n",
    "        print('%s, %s' % (dt.isoformat(), txt))\n",
    "\n",
    "    # 3.4 添加策略逻辑的地方，添加数据后，遍历每个日期进行调用，当前在的时间点坐标为0，其前面一根或者说之前一个交易日的索引为-1，依次类推\n",
    "    def next(self):\n",
    "        # 如果价格低于2500点，就记录下收盘价\n",
    "        if self.dataclose[0] < 2500:\n",
    "            self.log('Close, %.2f' % self.dataclose[0])\n",
    "\n",
    " # 引用backtrader\n",
    "import backtrader as bt\n",
    "if __name__ == '__main__':\n",
    "    # 1. 初始化引擎\n",
    "    cerebro = bt.Cerebro()\n",
    "    # 2.  引用一个数据源, 读取雅虎数据格式的本地文件\n",
    "    # 这里暂时不用关心数据的具体格式，自定义数据加载及其它源加载，后续章节会讲到\n",
    "    data = bt.feeds.YahooFinanceCSVData(\n",
    "    dataname='./GSPC.csv',\n",
    "    fromdate=datetime.datetime(2019, 8, 20),\n",
    "    todate=datetime.datetime(2020, 8, 20),\n",
    "    reverse=False)\n",
    "\n",
    "    # 添加数据到引擎中\n",
    "    cerebro.adddata(data)\n",
    "    # 3. 添加策略类到引擎中\n",
    "    cerebro.addstrategy(TestStrategy)\n",
    "    # 4.设置初始化资金为100万\n",
    "    cerebro.broker.setcash(1000000.0)\n",
    "    # 5. 打印策略执行前的资金\n",
    "    print('Starting Portfolio Value: %.2f' % cerebro.broker.getvalue())\n",
    "    # 6. 执行引擎\n",
    "    cerebro.run()\n",
    "    # 7.打印策略执行后的资金\n",
    "    print('Final Portfolio Value: %.2f' % cerebro.broker.getvalue())\n"
   ]
  },
  {
   "cell_type": "markdown",
   "metadata": {},
   "source": [
    "价格到达低点，触发了我们的条件，记录了收盘价，那干嘛不直接执行买入呢？"
   ]
  },
  {
   "cell_type": "code",
   "execution_count": 15,
   "metadata": {},
   "outputs": [
    {
     "name": "stdout",
     "output_type": "stream",
     "text": [
      "Starting Portfolio Value: 1000000.00\n",
      "2020-03-12, BUY CREATE, 2480.64\n",
      "2020-03-16, BUY CREATE, 2386.13\n",
      "2020-03-18, BUY CREATE, 2398.10\n",
      "2020-03-19, BUY CREATE, 2409.39\n",
      "2020-03-20, BUY CREATE, 2304.92\n",
      "2020-03-23, BUY CREATE, 2237.40\n",
      "2020-03-24, BUY CREATE, 2447.33\n",
      "2020-03-25, BUY CREATE, 2475.56\n",
      "2020-04-01, BUY CREATE, 2470.50\n",
      "2020-04-03, BUY CREATE, 2488.65\n",
      "Final Portfolio Value: 1009296.40\n"
     ]
    }
   ],
   "source": [
    "# 3.1 创建的策略必须继承bt策略基类\n",
    "class TestStrategy(bt.Strategy):\n",
    "    # 3.2 数据和策略添加到同一引擎后，在策略中可通过datas访问数据，这里仅获取了传送数据的收盘价信息\n",
    "    def __init__(self):\n",
    "        self.dataclose = self.datas[0].close\n",
    "\n",
    "    # 3.3 定义本策略的日志文件\n",
    "    def log(self, txt, dt=None):\n",
    "        dt = dt or self.datas[0].datetime.date(0)\n",
    "        print('%s, %s' % (dt.isoformat(), txt))\n",
    "\n",
    "    # 3.4 添加策略逻辑的地方，添加数据后，遍历每个日期进行调用，当前在的时间点坐标为0，其前面一根K线或者说之前一个交易节点的索引为-1，依次类推\n",
    "    def next(self):\n",
    "        # 3.5 0 当前交易节点的索引，-1 上一个交易节点的索引\n",
    "        if self.dataclose[0] < 2500:\n",
    "\n",
    "            # 3.6 条件满足,则发出下单指令并log记录，默认使用下一根K线的开盘价；如果未指定买入标的，则买入self.datas[0]的标的\n",
    "            self.buy()\n",
    "            self.log('BUY CREATE, %.2f' % self.dataclose[0])\n",
    "\n",
    " # 引用backtrader\n",
    "import backtrader as bt\n",
    "if __name__ == '__main__':\n",
    "    # 1. 初始化引擎\n",
    "    cerebro = bt.Cerebro()\n",
    "    # 2.  引用一个数据源, 读取雅虎数据格式的本地文件\n",
    "    # 这里暂时不用关心数据的具体格式，自定义数据加载及其它源加载，后续章节会讲到\n",
    "    data = bt.feeds.YahooFinanceCSVData(\n",
    "    dataname='./GSPC.csv',\n",
    "    fromdate=datetime.datetime(2019, 8, 20),\n",
    "    todate=datetime.datetime(2020, 8, 20),\n",
    "    reverse=False)\n",
    "\n",
    "    # 添加数据到引擎中\n",
    "    cerebro.adddata(data)\n",
    "    # 3. 添加策略类到引擎中\n",
    "    cerebro.addstrategy(TestStrategy)\n",
    "    # 4.设置初始化资金为100万\n",
    "    cerebro.broker.setcash(1000000.0)\n",
    "    # 5. 打印策略执行前的资金\n",
    "    print('Starting Portfolio Value: %.2f' % cerebro.broker.getvalue())\n",
    "    # 6. 执行引擎\n",
    "    cerebro.run()\n",
    "    # 7.打印策略执行后的资金\n",
    "    print('Final Portfolio Value: %.2f' % cerebro.broker.getvalue())"
   ]
  },
  {
   "cell_type": "markdown",
   "metadata": {},
   "source": [
    "上面的例子中，日志记录了触发点的日期，买入标识，以及收盘价。但我们不知道的是，发出的订单是否被执行了，如果执行了，是什么价格，买了多少，以及如何选择卖出时机呢？下面我们要获取订单的状态，以及寻找卖点。"
   ]
  },
  {
   "cell_type": "code",
   "execution_count": 21,
   "metadata": {},
   "outputs": [
    {
     "name": "stdout",
     "output_type": "stream",
     "text": [
      "Starting Portfolio Value: 1000000.00\n",
      "2020-03-13, BUY EXECUTED, 2569.99\n",
      "2020-05-28, SELL EXECUTED, 3046.61\n",
      "Final Portfolio Value: 1000476.62\n"
     ]
    }
   ],
   "source": [
    "class TestStrategy(bt.Strategy):\n",
    "    # 3.2 数据和策略添加到同一引擎后，在策略中可通过datas访问数据，这里仅获取了传送数据的收盘价信息\n",
    "    def __init__(self):\n",
    "        self.dataclose = self.datas[0].close\n",
    "        self.order = None\n",
    "\n",
    "    # 3.3 定义本策略的日志文件\n",
    "    def log(self, txt, dt=None):\n",
    "        dt = dt or self.datas[0].datetime.date(0)\n",
    "        print('%s, %s' % (dt.isoformat(), txt))\n",
    "\n",
    "    ## 3.4 添加策略逻辑的地方，添加数据后，遍历每个日期进行调用，当前在的时间点坐标为0，其前面一根或者说之前一个交易节点的索引为-1，依次类推\n",
    "    def next(self):\n",
    "        # 3.4.1 为了简单示例，检查是否有处理中的订单， 不再重复下\n",
    "        if self.order:\n",
    "            return\n",
    "\n",
    "        # 3.4.2 检测是否已经有持仓\n",
    "        if not self.position:\n",
    "\n",
    "            # 3.4.3 没有持仓，判断是否满足买的条件\n",
    "            if self.dataclose[0] < 2500:\n",
    "\n",
    "                # 3.4.4 价格低于2500，到达买点，下单，默认使用下一根K线的开盘价；\n",
    "                # self.log('BUY CREATE, %.2f' % self.dataclose[0])\n",
    "\n",
    "                # 3.4.5 跟踪订单\n",
    "                self.order = self.buy()\n",
    "\n",
    "        else:\n",
    "\n",
    "            # 3.4.6 已经有持仓，判断是否到达卖的条件\n",
    "            if self.dataclose[0] > 3000:\n",
    "                # 3.4.7 价格高于3000，市场被高估，卖出\n",
    "                # self.log('SELL CREATE, %.2f' % self.dataclose[0])\n",
    "\n",
    "                # 3.4.8 跟踪订单\n",
    "                self.order = self.sell()\n",
    "\n",
    "    # 3.5 订单状态回调\n",
    "    def notify_order(self, order):\n",
    "        if order.status in [order.Submitted, order.Accepted]:\n",
    "            # 3.5.1 状态变更信息，直接返回\n",
    "            return\n",
    "\n",
    "        # 3.5.2 检查订单是否已完成，有可能回测拒单：因为剩余资金可能不足\n",
    "        if order.status in [order.Completed]:\n",
    "            # 3.5.3 订单已执行，无论买卖都打印\n",
    "            if order.isbuy(): \n",
    "                self.log('BUY EXECUTED, %.2f' % order.executed.price)\n",
    "            elif order.issell():\n",
    "                self.log('SELL EXECUTED, %.2f' % order.executed.price)\n",
    "            # 3.5.4 记录执行的日期\n",
    "            self.bar_executed = len(self)\n",
    "\n",
    "        elif order.status in [order.Canceled, order.Margin, order.Rejected]:\n",
    "            # 3.5.5 订单未能执行\n",
    "            self.log('Order Canceled/Margin/Rejected')\n",
    "\n",
    "        # 3.5.6 订单均已处理完成\n",
    "        self.order = None\n",
    "\n",
    "# 引用backtrader\n",
    "import backtrader as bt\n",
    "if __name__ == '__main__':\n",
    "    # 1. 初始化引擎\n",
    "    cerebro = bt.Cerebro()\n",
    "    # 2.  引用一个数据源, 读取雅虎数据格式的本地文件\n",
    "    # 这里暂时不用关心数据的具体格式，自定义数据加载及其它源加载，后续章节会讲到\n",
    "    data = bt.feeds.YahooFinanceCSVData(\n",
    "    dataname='./GSPC.csv',\n",
    "    fromdate=datetime.datetime(2019, 8, 20),\n",
    "    todate=datetime.datetime(2020, 8, 20),\n",
    "    reverse=False)\n",
    "\n",
    "    # 添加数据到引擎中\n",
    "    cerebro.adddata(data)\n",
    "    # 3. 添加策略类到引擎中\n",
    "    cerebro.addstrategy(TestStrategy)\n",
    "    # 4.设置初始化资金为100万\n",
    "    cerebro.broker.setcash(1000000.0)\n",
    "    # 5. 打印策略执行前的资金\n",
    "    print('Starting Portfolio Value: %.2f' % cerebro.broker.getvalue())\n",
    "    # 6. 执行引擎\n",
    "    cerebro.run()\n",
    "    # 7.打印策略执行后的资金\n",
    "    print('Final Portfolio Value: %.2f' % cerebro.broker.getvalue())"
   ]
  },
  {
   "cell_type": "markdown",
   "metadata": {},
   "source": [
    "可以看到，订单的买入、卖出及执行价格都被记录了下来。在我们未指定下单数量的时候，系统默认为1（买入价格为下一个K线的开盘价）。系统最终盈利: 3046.61 - 2569.99 = 476.62。如果最后一天是有持仓的，则在计算最终组合价值时，使用持有股票最后的收盘价来进行计算。"
   ]
  },
  {
   "cell_type": "markdown",
   "metadata": {},
   "source": [
    "#### 1.1.4 利润的侵蚀者：佣金\n",
    "无论在什么时候，佣金都不可忽视。"
   ]
  },
  {
   "cell_type": "code",
   "execution_count": 24,
   "metadata": {},
   "outputs": [
    {
     "name": "stdout",
     "output_type": "stream",
     "text": [
      "Starting Portfolio Value: 1000000.00\n",
      "2020-03-13, BUY EXECUTED, Price: 2569.99, Cost: 2569.99, Comm 0.77\n",
      "2020-05-28, SELL EXECUTED, Price: 3046.61, Cost: 2569.99, Comm 0.91\n",
      "2020-05-28, OPERATION PROFIT, GROSS 476.62, NET 474.94\n",
      "Final Portfolio Value: 1000474.94\n"
     ]
    }
   ],
   "source": [
    "class TestStrategy(bt.Strategy):\n",
    "    # 3.2 数据和策略添加到同一引擎后，在策略中可通过datas访问数据，这里仅获取了传送数据的收盘价信息\n",
    "    def __init__(self):\n",
    "        self.dataclose = self.datas[0].close\n",
    "        self.order = None\n",
    "        self.buyprice = None\n",
    "        self.buycomm = None\n",
    "\n",
    "    # 3.3 定义本策略的日志文件\n",
    "    def log(self, txt, dt=None):\n",
    "        dt = dt or self.datas[0].datetime.date(0)\n",
    "        print('%s, %s' % (dt.isoformat(), txt))\n",
    "\n",
    "    ## 3.4 添加策略逻辑的地方，添加数据后，遍历每个日期进行调用，当前在的时间点坐标为0，其前面一根或者说之前一个交易节点的索引为-1，依次类推\n",
    "    def next(self):\n",
    "        # 3.4.1 检查是否有处理中的订单， 不再重复下\n",
    "        if self.order:\n",
    "            return\n",
    "\n",
    "        # 3.4.2 检测是否已经有持仓\n",
    "        if not self.position:\n",
    "\n",
    "            # 3.4.3 没有持仓，判断是否满足买的条件\n",
    "            if self.dataclose[0] < 2500:\n",
    "\n",
    "                # 3.4.4 条件满足，下单，默认使用下一根K线的开盘价；\n",
    "                # self.log('BUY CREATE, %.2f' % self.dataclose[0])\n",
    "\n",
    "                # 3.4.5 跟踪订单\n",
    "                self.order = self.buy()\n",
    "\n",
    "        else:\n",
    "\n",
    "            # 3.4.6 已经有持仓，判断是否到达卖的条件\n",
    "            if self.dataclose[0] > 3000:\n",
    "                # 3.4.7 条件满足，卖出\n",
    "                # self.log('SELL CREATE, %.2f' % self.dataclose[0])\n",
    "\n",
    "                # 3.4.8 跟踪订单\n",
    "                self.order = self.sell()\n",
    "\n",
    "    # 3.5 订单状态回调\n",
    "    def notify_order(self, order):\n",
    "        if order.status in [order.Submitted, order.Accepted]:\n",
    "            # 3.5.1 状态变更信息，直接返回\n",
    "            return\n",
    "\n",
    "        # 3.5.2 检查订单是否已完成，有可能回测拒单：因为剩余资金可能不足\n",
    "        if order.status in [order.Completed]:\n",
    "            # 3.5.3 订单已执行，无论买卖都打印\n",
    "            if order.isbuy(): \n",
    "                self.log(\n",
    "                    'BUY EXECUTED, Price: %.2f, Cost: %.2f, Comm %.2f' %\n",
    "                    (order.executed.price,\n",
    "                    order.executed.value,\n",
    "                    order.executed.comm))\n",
    "\n",
    "                self.buyprice = order.executed.price\n",
    "                self.buycomm = order.executed.comm\n",
    "            elif order.issell():\n",
    "                self.log('SELL EXECUTED, Price: %.2f, Cost: %.2f, Comm %.2f' %\n",
    "                        (order.executed.price,\n",
    "                        order.executed.value,\n",
    "                        order.executed.comm))\n",
    "            # 3.5.4 记录执行的日期\n",
    "            self.bar_executed = len(self)\n",
    "\n",
    "        elif order.status in [order.Canceled, order.Margin, order.Rejected]:\n",
    "            # 3.5.5 订单未能执行\n",
    "            self.log('Order Canceled/Margin/Rejected')\n",
    "\n",
    "        # 3.5.6 订单均已处理完成\n",
    "        self.order = None\n",
    "\n",
    "    # 3.6.1 交易结果回调\n",
    "    def notify_trade(self, trade):\n",
    "        if not trade.isclosed:\n",
    "            return\n",
    "        self.log('OPERATION PROFIT, GROSS %.2f, NET %.2f' %\n",
    "                (trade.pnl, trade.pnlcomm))\n",
    "# 引用backtrader\n",
    "import backtrader as bt\n",
    "if __name__ == '__main__':\n",
    "    # 1. 初始化引擎\n",
    "    cerebro = bt.Cerebro()\n",
    "    # 2.  引用一个数据源, 读取雅虎数据格式的本地文件\n",
    "    # 这里暂时不用关心数据的具体格式，自定义数据加载及其它源加载，后续章节会讲到\n",
    "    data = bt.feeds.YahooFinanceCSVData(\n",
    "    dataname='./GSPC.csv',\n",
    "    fromdate=datetime.datetime(2019, 8, 20),\n",
    "    todate=datetime.datetime(2020, 6, 20),\n",
    "    reverse=False)\n",
    "\n",
    "    # 添加数据到引擎中\n",
    "    cerebro.adddata(data)\n",
    "    # 3. 添加策略类到引擎中\n",
    "    cerebro.addstrategy(TestStrategy)\n",
    "    # 4.设置初始化资金为100万\n",
    "    cerebro.broker.setcash(1000000.0)\n",
    "    # 4.1 佣金设置为万3\n",
    "    cerebro.broker.setcommission(commission=0.0003)\n",
    "    # 5. 打印策略执行前的资金\n",
    "    print('Starting Portfolio Value: %.2f' % cerebro.broker.getvalue())\n",
    "    # 6. 执行引擎\n",
    "    cerebro.run()\n",
    "    # 7.打印策略执行后的资金\n",
    "    print('Final Portfolio Value: %.2f' % cerebro.broker.getvalue())"
   ]
  },
  {
   "cell_type": "markdown",
   "metadata": {},
   "source": [
    "相比上一节，增加了佣金设置，即Comm, 双向收取，如果买卖频率过高，将极大的侵蚀利润。这里还没有添加印花税。476.62-0.77-0.91= 474.94, 474.94才是暂时属于我们的利润。"
   ]
  },
  {
   "cell_type": "markdown",
   "metadata": {},
   "source": [
    "#### 1.1.5 "
   ]
  }
 ],
 "metadata": {
  "kernelspec": {
   "display_name": "Python 3",
   "language": "python",
   "name": "python3"
  },
  "language_info": {
   "codemirror_mode": {
    "name": "ipython",
    "version": 3
   },
   "file_extension": ".py",
   "mimetype": "text/x-python",
   "name": "python",
   "nbconvert_exporter": "python",
   "pygments_lexer": "ipython3",
   "version": "3.6.9"
  }
 },
 "nbformat": 4,
 "nbformat_minor": 4
}
