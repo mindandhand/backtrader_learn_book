{
 "cells": [
  {
   "cell_type": "markdown",
   "id": "e5ae42d6",
   "metadata": {},
   "source": [
    "### 如何自己实现一个事件驱动回测\n",
    "\n",
    "如果自己要设计实现一个事件驱动回测系统，可能要包含以下几个基本组件：\n",
    "\n",
    "- 事件：事件是系统功能的基本单元。诸如，如“行情”、“信号”、“订单”、“”等，该类型决定了它在事件循环中如何处理。\n",
    "\n",
    "- 事件队列：事件队列是一个内存中的Python队列对象，存储了所有触发并待处理的事件。\n",
    "\n",
    "- 数据处理：一个抽象基类，为处理历史或实时市场数据提供接口。\n",
    "\n",
    "- 策略：一个抽象基类，它提供了接收市场数据并生成相应信号事件的接口。\n",
    "\n",
    "- 执行引擎：模拟与经纪公司的连接。从队列中接收订单事件并执行它们。一旦订单被执行，处理器会创建成交事件，描述实际成交的内容，包括费用、佣金和滑点等。\n",
    "\n",
    "- 回测：所有这些组件都被封装在一个事件循环中，该循环正确处理所有事件类型，并将它们路由到适当的组件。"
   ]
  },
  {
   "cell_type": "markdown",
   "id": "63d67cf4",
   "metadata": {
    "ExecuteTime": {
     "end_time": "2024-02-08T06:50:10.901237Z",
     "start_time": "2024-02-08T06:50:10.885126Z"
    }
   },
   "source": [
    "#### 事件"
   ]
  },
  {
   "cell_type": "code",
   "execution_count": 10,
   "id": "9c546de8",
   "metadata": {
    "ExecuteTime": {
     "end_time": "2024-02-08T07:20:51.765644Z",
     "start_time": "2024-02-08T07:20:51.755159Z"
    }
   },
   "outputs": [],
   "source": [
    "##### 所有事件的基类\n",
    "class Event(object): \n",
    "    \"\"\"Event is base class providing an interface for all subsequent (inherited) events\"\"\"\n",
    "    pass\n",
    "\n",
    "##### 行情事件,行情来的时候触发\n",
    "class QuoteEvent(Event): \n",
    "    def __init__(self):\n",
    "        self.type = 'QUOTE'\n",
    "        \n",
    "##### 信号事件，策略触发，买还是卖\n",
    "class SignalEvent(Event): \n",
    "    def __init__(self, strategy_id, symbol, datetime, signal_type, strength): \n",
    "        # 事件的类型\n",
    "        self.type = 'SIGNAL'\n",
    "        # 策略ID\n",
    "        self.strategy_id = strategy_id\n",
    "        # 股票代码\n",
    "        self.symbol = symbol\n",
    "        # 触发时间\n",
    "        self.datetime = datetime\n",
    "        # 信号的具体类型\n",
    "        self.signal_type = signal_type\n",
    "        #self.strength = strength\n",
    "        \n",
    "##### 订单，引擎触发\n",
    "class OrderEvent(Event):\n",
    "    def __init__(self, symbol, order_type, quantity, direction):\n",
    "        # 事件的类型\n",
    "        self.type = 'ORDER'\n",
    "         # 股票代码\n",
    "        self.symbol = symbol\n",
    "         # 订单类型\n",
    "        self.order_type = order_type\n",
    "        # 订单数量\n",
    "        self.quantity = quantity\n",
    "        # 订单方向\n",
    "        self.direction = direction\n",
    "    def print_order(self): \n",
    "        \"\"\" Outputs the values within the Order. \"\"\"\n",
    "        print(\n",
    "        \"Order: Symbol=%s, Type=%s, Quantity=%s, Direction=%s\" %\n",
    "        (self.symbol, self.order_type, self.quantity, self.direction) )\n",
    "\n",
    "        \n",
    "##### 成本费用，引擎触发\n",
    "class CostEvent(Event):\n",
    "    def __init__(self, timeindex, symbol, exchange, quantity, direction, fill_cost, commission=None):\n",
    "        # 事件的类型\n",
    "        self.type =  'COST'\n",
    "        # 费用产生时间\n",
    "        self.timeindex = timeindex\n",
    "        # 股票代码\n",
    "        self.symbol = symbol\n",
    "        # 交易所\n",
    "        self.exchange = exchange\n",
    "        # 数量\n",
    "        self.quantity = quantity\n",
    "        # 方向\n",
    "        self.direction = direction\n",
    "        #self.fill_cost = fill_cost\n",
    "        # Calculate commission\n",
    "        if commission is None:\n",
    "            self.commission = self.calculate_ib_commission()\n",
    "        else:\n",
    "            self.commission = commission\n",
    "    def calculate_ib_commission(self):\n",
    "        # 假设默认费用为千分之一\n",
    "        return 0.001"
   ]
  },
  {
   "cell_type": "markdown",
   "id": "8e91d327",
   "metadata": {},
   "source": [
    "#### 数据"
   ]
  },
  {
   "cell_type": "code",
   "execution_count": null,
   "id": "881c5549",
   "metadata": {},
   "outputs": [],
   "source": []
  }
 ],
 "metadata": {
  "kernelspec": {
   "display_name": "Python 3 (ipykernel)",
   "language": "python",
   "name": "python3"
  },
  "language_info": {
   "codemirror_mode": {
    "name": "ipython",
    "version": 3
   },
   "file_extension": ".py",
   "mimetype": "text/x-python",
   "name": "python",
   "nbconvert_exporter": "python",
   "pygments_lexer": "ipython3",
   "version": "3.10.13"
  },
  "toc": {
   "base_numbering": 1,
   "nav_menu": {},
   "number_sections": true,
   "sideBar": true,
   "skip_h1_title": false,
   "title_cell": "Table of Contents",
   "title_sidebar": "Contents",
   "toc_cell": false,
   "toc_position": {},
   "toc_section_display": true,
   "toc_window_display": false
  },
  "varInspector": {
   "cols": {
    "lenName": 16,
    "lenType": 16,
    "lenVar": 40
   },
   "kernels_config": {
    "python": {
     "delete_cmd_postfix": "",
     "delete_cmd_prefix": "del ",
     "library": "var_list.py",
     "varRefreshCmd": "print(var_dic_list())"
    },
    "r": {
     "delete_cmd_postfix": ") ",
     "delete_cmd_prefix": "rm(",
     "library": "var_list.r",
     "varRefreshCmd": "cat(var_dic_list()) "
    }
   },
   "types_to_exclude": [
    "module",
    "function",
    "builtin_function_or_method",
    "instance",
    "_Feature"
   ],
   "window_display": false
  }
 },
 "nbformat": 4,
 "nbformat_minor": 5
}
